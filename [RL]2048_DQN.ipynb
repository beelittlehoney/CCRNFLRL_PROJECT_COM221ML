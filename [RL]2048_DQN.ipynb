{
  "cells": [
    {
      "cell_type": "markdown",
      "metadata": {
        "id": "view-in-github",
        "colab_type": "text"
      },
      "source": [
        "<a href=\"https://colab.research.google.com/github/beelittlehoney/CCRNFLRL_PROJECT_COM221ML/blob/main/%5BRL%5D2048_DQN.ipynb\" target=\"_parent\"><img src=\"https://colab.research.google.com/assets/colab-badge.svg\" alt=\"Open In Colab\"/></a>"
      ]
    },
    {
      "cell_type": "markdown",
      "metadata": {
        "id": "6o-XN1RZophU"
      },
      "source": [
        "# Install Dependencies"
      ]
    },
    {
      "cell_type": "code",
      "execution_count": null,
      "metadata": {
        "colab": {
          "base_uri": "https://localhost:8080/"
        },
        "id": "0dd2d61a",
        "outputId": "c51d68ba-c30c-4a36-f894-1451087503e8"
      },
      "outputs": [
        {
          "output_type": "stream",
          "name": "stdout",
          "text": [
            "  Installing build dependencies ... \u001b[?25l\u001b[?25hdone\n",
            "  Getting requirements to build wheel ... \u001b[?25l\u001b[?25hdone\n",
            "  Preparing metadata (pyproject.toml) ... \u001b[?25l\u001b[?25hdone\n",
            "\u001b[2K   \u001b[90m━━━━━━━━━━━━━━━━━━━━━━━━━━━━━━━━━━━━━━━━\u001b[0m \u001b[32m953.9/953.9 kB\u001b[0m \u001b[31m40.8 MB/s\u001b[0m eta \u001b[36m0:00:00\u001b[0m\n",
            "\u001b[?25h  Building wheel for gymnasium_2048 (pyproject.toml) ... \u001b[?25l\u001b[?25hdone\n",
            "\u001b[31mERROR: pip's dependency resolver does not currently take into account all the packages that are installed. This behaviour is the source of the following dependency conflicts.\n",
            "dopamine-rl 4.1.2 requires gymnasium>=1.0.0, but you have gymnasium 0.29.1 which is incompatible.\u001b[0m\u001b[31m\n",
            "\u001b[0m"
          ]
        }
      ],
      "source": [
        "!pip install git+https://github.com/Quentin18/gymnasium-2048.git --quiet\n",
        "!pip install gymnasium torch numpy matplotlib imageio[ffmpeg] --quiet"
      ]
    },
    {
      "cell_type": "markdown",
      "metadata": {
        "id": "vXE3Rn8Qz_Qo"
      },
      "source": [
        "# Imports"
      ]
    },
    {
      "cell_type": "code",
      "execution_count": null,
      "metadata": {
        "id": "0qezc8qYfOLr",
        "colab": {
          "base_uri": "https://localhost:8080/"
        },
        "outputId": "d0395197-9b95-47b7-b5f4-8d71852ed596"
      },
      "outputs": [
        {
          "output_type": "stream",
          "name": "stdout",
          "text": [
            "Using device: cpu\n"
          ]
        }
      ],
      "source": [
        "import random\n",
        "import numpy as np\n",
        "import gymnasium as gym\n",
        "import torch\n",
        "import torch.nn as nn\n",
        "import torch.optim as optim\n",
        "from collections import deque\n",
        "import matplotlib.pyplot as plt\n",
        "from IPython.display import Video, display\n",
        "import os\n",
        "\n",
        "device = torch.device(\"cuda\" if torch.cuda.is_available() else \"cpu\")\n",
        "print(\"Using device:\", device)"
      ]
    },
    {
      "cell_type": "markdown",
      "metadata": {
        "id": "g_BldnAEmv0f"
      },
      "source": [
        "# Dueling Double-DQN Network"
      ]
    },
    {
      "cell_type": "code",
      "execution_count": null,
      "metadata": {
        "id": "25-uJMW-mxJk"
      },
      "outputs": [],
      "source": [
        "class DuelingDQN(nn.Module):\n",
        "    def __init__(self, state_size, action_size, hidden=128):\n",
        "        super(DuelingDQN, self).__init__()\n",
        "        # common backbone\n",
        "        self.fc1 = nn.Linear(state_size, hidden)\n",
        "        self.fc2 = nn.Linear(hidden, hidden)\n",
        "\n",
        "        # value and advantage streams\n",
        "        self.value_fc = nn.Linear(hidden, 1)\n",
        "        self.advantage_fc = nn.Linear(hidden, action_size)\n",
        "\n",
        "    def forward(self, x):\n",
        "        # accept both 1D and 2D tensors\n",
        "        squeeze = False\n",
        "        if x.dim() == 1:\n",
        "            x = x.unsqueeze(0)\n",
        "            squeeze = True\n",
        "\n",
        "        x = torch.relu(self.fc1(x))\n",
        "        x = torch.relu(self.fc2(x))\n",
        "\n",
        "        value = self.value_fc(x)                     # shape (B,1)\n",
        "        advantage = self.advantage_fc(x)             # shape (B, A)\n",
        "        q = value + (advantage - advantage.mean(dim=1, keepdim=True))\n",
        "        return q.squeeze(0) if squeeze else q"
      ]
    },
    {
      "cell_type": "markdown",
      "metadata": {
        "id": "Oivw-3zHm3Hb"
      },
      "source": [
        "# Replay Buffer"
      ]
    },
    {
      "cell_type": "code",
      "execution_count": null,
      "metadata": {
        "id": "YRreOIDOm4Da"
      },
      "outputs": [],
      "source": [
        "class ReplayBuffer:\n",
        "    def __init__(self, max_size=200_000):\n",
        "        self.buffer = deque(maxlen=max_size)\n",
        "\n",
        "    def add(self, experience):\n",
        "        self.buffer.append(experience)\n",
        "\n",
        "    def sample(self, batch_size):\n",
        "        batch = random.sample(self.buffer, batch_size)\n",
        "        states, actions, rewards, next_states, dones = zip(*batch)\n",
        "        return (\n",
        "            np.vstack(states),\n",
        "            np.array(actions),\n",
        "            np.array(rewards, dtype=np.float32),\n",
        "            np.vstack(next_states),\n",
        "            np.array(dones, dtype=np.uint8),\n",
        "        )\n",
        "\n",
        "    def __len__(self):\n",
        "        return len(self.buffer)"
      ]
    },
    {
      "cell_type": "markdown",
      "metadata": {
        "id": "nlMdzkQ0m563"
      },
      "source": [
        "# Utility Functions"
      ]
    },
    {
      "cell_type": "code",
      "execution_count": null,
      "metadata": {
        "id": "zUF50o0Zm8MH"
      },
      "outputs": [],
      "source": [
        "def preprocess_obs(obs, max_pow=16):\n",
        "    board = np.array(obs, dtype=np.float32)\n",
        "    with np.errstate(divide='ignore'):\n",
        "        log_board = np.where(board > 0, np.log2(board), 0.0)\n",
        "    norm = log_board / float(max_pow)\n",
        "    return norm.flatten().astype(np.float32)\n",
        "\n",
        "def safe_reset(env):\n",
        "    out = env.reset()\n",
        "    return out[0] if isinstance(out, tuple) else out"
      ]
    },
    {
      "cell_type": "markdown",
      "metadata": {
        "id": "rezGbhi4m-Vb"
      },
      "source": [
        "# Training Function with Early Termination"
      ]
    },
    {
      "cell_type": "code",
      "execution_count": null,
      "metadata": {
        "id": "gdmRIrVnnBKg"
      },
      "outputs": [],
      "source": [
        "def train_dqn_improved(\n",
        "    episodes=2000,\n",
        "    gamma=0.99,\n",
        "    lr=5e-4,\n",
        "    batch_size=256,\n",
        "    replay_capacity=200_000,\n",
        "    start_learning_after=2000,\n",
        "    target_update_every=100,\n",
        "    train_updates_per_step=4,\n",
        "    epsilon_start=1.0,\n",
        "    epsilon_end=0.05,\n",
        "    epsilon_decay_steps=400_000,\n",
        "    max_pow=16,\n",
        "    max_steps_per_episode=1000,\n",
        "    no_change_penalty=-0.02,\n",
        "    max_tile_bonus_scale=1.0,\n",
        "    max_stagnant_steps=100,        # <-- New: early termination threshold\n",
        "):\n",
        "    env = gym.make(\"gymnasium_2048:gymnasium_2048/TwentyFortyEight-v0\", size=4, max_pow=max_pow)\n",
        "    sample_obs = safe_reset(env)\n",
        "    state_size = preprocess_obs(sample_obs, max_pow).shape[0]\n",
        "    action_size = env.action_space.n\n",
        "\n",
        "    q_net = DuelingDQN(state_size, action_size).to(device)\n",
        "    target_net = DuelingDQN(state_size, action_size).to(device)\n",
        "    target_net.load_state_dict(q_net.state_dict())\n",
        "    optimizer = optim.Adam(q_net.parameters(), lr=lr)\n",
        "\n",
        "    memory = ReplayBuffer(max_size=replay_capacity)\n",
        "    epsilon = epsilon_start\n",
        "\n",
        "    rewards_history = []\n",
        "    best_max_tile_history = []\n",
        "\n",
        "    total_steps = 0\n",
        "    for ep in range(1, episodes + 1):\n",
        "        obs = safe_reset(env)\n",
        "        state = preprocess_obs(obs, max_pow)\n",
        "        total_reward = 0.0\n",
        "        done = False\n",
        "        prev_max_tile = int(np.max(obs))\n",
        "        steps = 0\n",
        "\n",
        "        # new early termination trackers\n",
        "        stagnant_moves = 0\n",
        "        last_score = 0.0\n",
        "\n",
        "        while not done and steps < max_steps_per_episode:\n",
        "            # epsilon decay\n",
        "            epsilon = max(epsilon_end, epsilon_start - (epsilon_start - epsilon_end) * (total_steps / epsilon_decay_steps))\n",
        "\n",
        "            # choose action\n",
        "            if random.random() < epsilon:\n",
        "                action = env.action_space.sample()\n",
        "            else:\n",
        "                with torch.no_grad():\n",
        "                    qvals = q_net(torch.FloatTensor(state).to(device))\n",
        "                    action = int(qvals.argmax().item())\n",
        "\n",
        "            # take step\n",
        "            next_obs, env_reward, terminated, truncated, _ = env.step(action)\n",
        "            done = terminated or truncated\n",
        "            next_state = preprocess_obs(next_obs, max_pow)\n",
        "\n",
        "            # reward shaping\n",
        "            r = float(env_reward)\n",
        "            new_max_tile = int(np.max(next_obs))\n",
        "            if new_max_tile > prev_max_tile:\n",
        "                prev_log = 0 if prev_max_tile == 0 else np.log2(prev_max_tile)\n",
        "                new_log = np.log2(new_max_tile)\n",
        "                bonus = (new_log - prev_log) * max_tile_bonus_scale\n",
        "                r += bonus\n",
        "                prev_max_tile = new_max_tile\n",
        "            if np.allclose(state, next_state):\n",
        "                r += no_change_penalty\n",
        "\n",
        "            memory.add((state, action, r, next_state, float(done)))\n",
        "            state = next_state\n",
        "            total_reward += r\n",
        "            steps += 1\n",
        "            total_steps += 1\n",
        "\n",
        "            # check for stagnation (no score gain)\n",
        "            if env_reward > 0:\n",
        "                stagnant_moves = 0\n",
        "                last_score += env_reward\n",
        "            else:\n",
        "                stagnant_moves += 1\n",
        "\n",
        "            if stagnant_moves >= max_stagnant_steps:\n",
        "                # terminate early if no improvement for too long\n",
        "                done = True\n",
        "                # optional mild penalty to signal stagnation\n",
        "                total_reward -= 0.5\n",
        "                break\n",
        "\n",
        "            # train updates\n",
        "            if len(memory) >= max(batch_size, start_learning_after):\n",
        "                for _ in range(train_updates_per_step):\n",
        "                    states_b, actions_b, rewards_b, next_states_b, dones_b = memory.sample(batch_size)\n",
        "                    states_t = torch.FloatTensor(states_b).to(device)\n",
        "                    actions_t = torch.LongTensor(actions_b).unsqueeze(1).to(device)\n",
        "                    rewards_t = torch.FloatTensor(rewards_b).to(device)\n",
        "                    next_states_t = torch.FloatTensor(next_states_b).to(device)\n",
        "                    dones_t = torch.FloatTensor(dones_b).to(device)\n",
        "\n",
        "                    q_values = q_net(states_t).gather(1, actions_t).squeeze(1)\n",
        "                    with torch.no_grad():\n",
        "                        next_actions = q_net(next_states_t).argmax(dim=1, keepdim=True)\n",
        "                        next_q_values = target_net(next_states_t).gather(1, next_actions).squeeze(1)\n",
        "                        targets = rewards_t + (1 - dones_t) * gamma * next_q_values\n",
        "\n",
        "                    loss = nn.SmoothL1Loss()(q_values, targets)\n",
        "                    optimizer.zero_grad()\n",
        "                    loss.backward()\n",
        "                    torch.nn.utils.clip_grad_norm_(q_net.parameters(), 10.0)\n",
        "                    optimizer.step()\n",
        "\n",
        "        rewards_history.append(total_reward)\n",
        "        best_max_tile_history.append(prev_max_tile)\n",
        "\n",
        "        if ep % target_update_every == 0:\n",
        "            target_net.load_state_dict(q_net.state_dict())\n",
        "\n",
        "        if ep % 10 == 0:\n",
        "            avg10 = np.mean(rewards_history[-10:])\n",
        "            avg_max_tile = np.mean(best_max_tile_history[-50:]) if len(best_max_tile_history) >= 50 else np.mean(best_max_tile_history)\n",
        "            print(f\"Ep {ep}/{episodes} | reward {total_reward:.2f} | avg10 {avg10:.2f} | eps {epsilon:.3f} | avg_max_tile_recent {avg_max_tile:.1f}\")\n",
        "\n",
        "    env.close()\n",
        "    return q_net, rewards_history, best_max_tile_history"
      ]
    },
    {
      "cell_type": "markdown",
      "metadata": {
        "id": "sAhzobBKnDY2"
      },
      "source": [
        "# Train the Agent"
      ]
    },
    {
      "cell_type": "code",
      "execution_count": null,
      "metadata": {
        "id": "6sN7VCZZnHnD",
        "colab": {
          "base_uri": "https://localhost:8080/",
          "height": 1000
        },
        "outputId": "c868f41c-7110-46a9-a7cc-7235ebf7feb4"
      },
      "outputs": [
        {
          "metadata": {
            "tags": null
          },
          "name": "stderr",
          "output_type": "stream",
          "text": [
            "/usr/local/lib/python3.12/dist-packages/gymnasium_2048/envs/twenty_forty_eight.py:250: RuntimeWarning: overflow encountered in scalar add\n",
            "  self.total_score += self.step_score\n"
          ]
        },
        {
          "output_type": "stream",
          "name": "stdout",
          "text": [
            "Ep 10/3000 | reward 1113.24 | avg10 908.72 | eps 0.998 | avg_max_tile_recent 1.0\n",
            "Ep 20/3000 | reward 562.08 | avg10 982.30 | eps 0.996 | avg_max_tile_recent 1.0\n",
            "Ep 30/3000 | reward 665.76 | avg10 1092.28 | eps 0.994 | avg_max_tile_recent 1.0\n",
            "Ep 40/3000 | reward 721.96 | avg10 1186.13 | eps 0.991 | avg_max_tile_recent 1.0\n",
            "Ep 50/3000 | reward 530.10 | avg10 1034.42 | eps 0.989 | avg_max_tile_recent 1.0\n",
            "Ep 60/3000 | reward 1480.62 | avg10 1044.49 | eps 0.987 | avg_max_tile_recent 1.0\n",
            "Ep 70/3000 | reward 1496.30 | avg10 1130.27 | eps 0.985 | avg_max_tile_recent 1.0\n",
            "Ep 80/3000 | reward 929.50 | avg10 992.57 | eps 0.983 | avg_max_tile_recent 1.0\n",
            "Ep 90/3000 | reward 414.58 | avg10 889.48 | eps 0.981 | avg_max_tile_recent 1.0\n",
            "Ep 100/3000 | reward 1320.70 | avg10 1120.78 | eps 0.978 | avg_max_tile_recent 1.0\n",
            "Ep 110/3000 | reward 1420.48 | avg10 1411.68 | eps 0.976 | avg_max_tile_recent 1.0\n",
            "Ep 120/3000 | reward 606.10 | avg10 986.12 | eps 0.973 | avg_max_tile_recent 1.0\n",
            "Ep 130/3000 | reward 306.64 | avg10 764.50 | eps 0.972 | avg_max_tile_recent 1.0\n",
            "Ep 140/3000 | reward 646.08 | avg10 1295.93 | eps 0.969 | avg_max_tile_recent 1.0\n",
            "Ep 150/3000 | reward 857.66 | avg10 1259.18 | eps 0.966 | avg_max_tile_recent 1.0\n",
            "Ep 160/3000 | reward 1859.82 | avg10 1194.56 | eps 0.964 | avg_max_tile_recent 1.0\n",
            "Ep 170/3000 | reward 578.10 | avg10 1061.19 | eps 0.962 | avg_max_tile_recent 1.0\n",
            "Ep 180/3000 | reward 997.18 | avg10 1059.59 | eps 0.960 | avg_max_tile_recent 1.0\n",
            "Ep 190/3000 | reward 586.10 | avg10 761.35 | eps 0.958 | avg_max_tile_recent 1.0\n",
            "Ep 200/3000 | reward 1189.26 | avg10 968.22 | eps 0.956 | avg_max_tile_recent 1.0\n",
            "Ep 210/3000 | reward 215.00 | avg10 987.37 | eps 0.954 | avg_max_tile_recent 1.0\n",
            "Ep 220/3000 | reward 2039.48 | avg10 915.08 | eps 0.952 | avg_max_tile_recent 1.0\n",
            "Ep 230/3000 | reward 681.76 | avg10 1385.73 | eps 0.949 | avg_max_tile_recent 1.0\n",
            "Ep 240/3000 | reward 1257.04 | avg10 1135.86 | eps 0.947 | avg_max_tile_recent 1.0\n",
            "Ep 250/3000 | reward 1768.20 | avg10 1051.67 | eps 0.944 | avg_max_tile_recent 1.0\n",
            "Ep 260/3000 | reward 829.72 | avg10 918.69 | eps 0.942 | avg_max_tile_recent 1.0\n",
            "Ep 270/3000 | reward 1108.90 | avg10 824.46 | eps 0.941 | avg_max_tile_recent 1.0\n",
            "Ep 280/3000 | reward 1432.52 | avg10 1046.87 | eps 0.938 | avg_max_tile_recent 1.0\n",
            "Ep 290/3000 | reward 709.98 | avg10 1127.19 | eps 0.936 | avg_max_tile_recent 1.0\n",
            "Ep 300/3000 | reward 1029.38 | avg10 1029.72 | eps 0.934 | avg_max_tile_recent 1.0\n",
            "Ep 310/3000 | reward 625.94 | avg10 998.05 | eps 0.932 | avg_max_tile_recent 1.0\n",
            "Ep 320/3000 | reward 829.82 | avg10 870.81 | eps 0.930 | avg_max_tile_recent 1.0\n",
            "Ep 330/3000 | reward 837.70 | avg10 1145.07 | eps 0.928 | avg_max_tile_recent 1.0\n",
            "Ep 340/3000 | reward 454.40 | avg10 857.12 | eps 0.926 | avg_max_tile_recent 1.0\n",
            "Ep 350/3000 | reward 657.64 | avg10 1049.10 | eps 0.923 | avg_max_tile_recent 1.0\n",
            "Ep 360/3000 | reward 2059.02 | avg10 1577.94 | eps 0.921 | avg_max_tile_recent 1.0\n",
            "Ep 370/3000 | reward 685.64 | avg10 1014.41 | eps 0.918 | avg_max_tile_recent 1.0\n",
            "Ep 380/3000 | reward 1340.64 | avg10 1396.94 | eps 0.916 | avg_max_tile_recent 1.0\n",
            "Ep 390/3000 | reward 1416.30 | avg10 1205.34 | eps 0.913 | avg_max_tile_recent 1.0\n",
            "Ep 400/3000 | reward 342.38 | avg10 879.06 | eps 0.911 | avg_max_tile_recent 1.0\n",
            "Ep 410/3000 | reward 1532.58 | avg10 1260.91 | eps 0.909 | avg_max_tile_recent 1.0\n",
            "Ep 420/3000 | reward 1488.38 | avg10 1164.11 | eps 0.906 | avg_max_tile_recent 1.0\n",
            "Ep 430/3000 | reward 1887.38 | avg10 1447.29 | eps 0.904 | avg_max_tile_recent 1.0\n",
            "Ep 440/3000 | reward 1452.46 | avg10 1158.98 | eps 0.901 | avg_max_tile_recent 1.0\n",
            "Ep 450/3000 | reward 725.80 | avg10 1123.88 | eps 0.899 | avg_max_tile_recent 1.0\n",
            "Ep 460/3000 | reward 662.04 | avg10 845.27 | eps 0.897 | avg_max_tile_recent 1.0\n",
            "Ep 470/3000 | reward 1232.68 | avg10 928.63 | eps 0.895 | avg_max_tile_recent 1.0\n",
            "Ep 480/3000 | reward 1380.74 | avg10 999.61 | eps 0.893 | avg_max_tile_recent 1.0\n",
            "Ep 490/3000 | reward 2825.82 | avg10 1230.91 | eps 0.890 | avg_max_tile_recent 1.0\n",
            "Ep 500/3000 | reward 1117.26 | avg10 1223.63 | eps 0.888 | avg_max_tile_recent 1.0\n",
            "Ep 510/3000 | reward 1448.56 | avg10 929.33 | eps 0.886 | avg_max_tile_recent 1.0\n",
            "Ep 520/3000 | reward 749.64 | avg10 1223.30 | eps 0.883 | avg_max_tile_recent 1.0\n",
            "Ep 530/3000 | reward 1233.10 | avg10 1233.77 | eps 0.881 | avg_max_tile_recent 1.0\n",
            "Ep 540/3000 | reward 1053.32 | avg10 796.14 | eps 0.879 | avg_max_tile_recent 1.0\n",
            "Ep 550/3000 | reward 737.66 | avg10 804.02 | eps 0.877 | avg_max_tile_recent 1.0\n",
            "Ep 560/3000 | reward 1096.96 | avg10 1251.94 | eps 0.875 | avg_max_tile_recent 1.0\n",
            "Ep 570/3000 | reward 1871.70 | avg10 1081.94 | eps 0.872 | avg_max_tile_recent 1.0\n",
            "Ep 580/3000 | reward 741.82 | avg10 912.32 | eps 0.870 | avg_max_tile_recent 1.0\n",
            "Ep 590/3000 | reward 446.62 | avg10 943.02 | eps 0.868 | avg_max_tile_recent 1.0\n",
            "Ep 600/3000 | reward 1352.70 | avg10 1243.71 | eps 0.866 | avg_max_tile_recent 1.0\n",
            "Ep 610/3000 | reward 1237.00 | avg10 1060.04 | eps 0.864 | avg_max_tile_recent 1.0\n",
            "Ep 620/3000 | reward 1408.36 | avg10 1154.93 | eps 0.861 | avg_max_tile_recent 1.0\n",
            "Ep 630/3000 | reward 965.34 | avg10 946.52 | eps 0.859 | avg_max_tile_recent 1.0\n",
            "Ep 640/3000 | reward 1009.38 | avg10 1078.26 | eps 0.857 | avg_max_tile_recent 1.0\n",
            "Ep 650/3000 | reward 969.60 | avg10 935.05 | eps 0.855 | avg_max_tile_recent 1.0\n",
            "Ep 660/3000 | reward 1720.04 | avg10 1246.78 | eps 0.852 | avg_max_tile_recent 1.0\n",
            "Ep 670/3000 | reward 302.74 | avg10 1038.76 | eps 0.850 | avg_max_tile_recent 1.0\n",
            "Ep 680/3000 | reward 1217.24 | avg10 1118.97 | eps 0.848 | avg_max_tile_recent 1.0\n",
            "Ep 690/3000 | reward 1284.76 | avg10 1171.37 | eps 0.845 | avg_max_tile_recent 1.0\n",
            "Ep 700/3000 | reward 1500.28 | avg10 1004.89 | eps 0.843 | avg_max_tile_recent 1.0\n",
            "Ep 710/3000 | reward 641.82 | avg10 833.99 | eps 0.841 | avg_max_tile_recent 1.0\n",
            "Ep 720/3000 | reward 1552.38 | avg10 980.49 | eps 0.839 | avg_max_tile_recent 1.0\n",
            "Ep 730/3000 | reward 454.18 | avg10 1057.26 | eps 0.837 | avg_max_tile_recent 1.0\n",
            "Ep 740/3000 | reward 1308.54 | avg10 868.74 | eps 0.835 | avg_max_tile_recent 1.0\n",
            "Ep 750/3000 | reward 669.92 | avg10 970.96 | eps 0.833 | avg_max_tile_recent 1.0\n",
            "Ep 760/3000 | reward 857.46 | avg10 823.26 | eps 0.831 | avg_max_tile_recent 1.0\n",
            "Ep 770/3000 | reward 1005.44 | avg10 1176.51 | eps 0.828 | avg_max_tile_recent 1.0\n",
            "Ep 780/3000 | reward 797.38 | avg10 1266.66 | eps 0.826 | avg_max_tile_recent 1.0\n",
            "Ep 790/3000 | reward 566.10 | avg10 1363.01 | eps 0.823 | avg_max_tile_recent 1.0\n",
            "Ep 800/3000 | reward 577.76 | avg10 1099.08 | eps 0.821 | avg_max_tile_recent 1.0\n",
            "Ep 810/3000 | reward 677.88 | avg10 798.86 | eps 0.819 | avg_max_tile_recent 1.0\n",
            "Ep 820/3000 | reward 1300.58 | avg10 965.72 | eps 0.817 | avg_max_tile_recent 1.0\n",
            "Ep 830/3000 | reward 1300.74 | avg10 1188.57 | eps 0.814 | avg_max_tile_recent 1.0\n",
            "Ep 840/3000 | reward 1783.74 | avg10 940.60 | eps 0.812 | avg_max_tile_recent 1.0\n",
            "Ep 850/3000 | reward 933.54 | avg10 968.58 | eps 0.810 | avg_max_tile_recent 1.0\n",
            "Ep 860/3000 | reward 1480.42 | avg10 1022.83 | eps 0.808 | avg_max_tile_recent 1.0\n",
            "Ep 870/3000 | reward 1021.18 | avg10 1159.39 | eps 0.806 | avg_max_tile_recent 1.0\n",
            "Ep 880/3000 | reward 1117.18 | avg10 1250.82 | eps 0.803 | avg_max_tile_recent 1.0\n",
            "Ep 890/3000 | reward 1121.02 | avg10 1382.83 | eps 0.800 | avg_max_tile_recent 1.0\n",
            "Ep 900/3000 | reward 1077.02 | avg10 1163.76 | eps 0.798 | avg_max_tile_recent 1.0\n",
            "Ep 910/3000 | reward 1400.54 | avg10 1136.14 | eps 0.796 | avg_max_tile_recent 1.0\n",
            "Ep 920/3000 | reward 1157.20 | avg10 1198.88 | eps 0.793 | avg_max_tile_recent 1.0\n",
            "Ep 930/3000 | reward 322.66 | avg10 1093.50 | eps 0.791 | avg_max_tile_recent 1.0\n",
            "Ep 940/3000 | reward 1552.22 | avg10 1011.26 | eps 0.789 | avg_max_tile_recent 1.0\n",
            "Ep 950/3000 | reward 965.18 | avg10 844.36 | eps 0.787 | avg_max_tile_recent 1.0\n",
            "Ep 960/3000 | reward 574.08 | avg10 1078.38 | eps 0.784 | avg_max_tile_recent 1.0\n",
            "Ep 970/3000 | reward 1229.10 | avg10 996.09 | eps 0.782 | avg_max_tile_recent 1.0\n",
            "Ep 980/3000 | reward 1221.08 | avg10 994.08 | eps 0.780 | avg_max_tile_recent 1.0\n",
            "Ep 990/3000 | reward 1304.86 | avg10 1022.01 | eps 0.778 | avg_max_tile_recent 1.0\n",
            "Ep 1000/3000 | reward 1281.06 | avg10 1002.94 | eps 0.776 | avg_max_tile_recent 1.0\n",
            "Ep 1010/3000 | reward 1408.48 | avg10 919.09 | eps 0.774 | avg_max_tile_recent 1.0\n",
            "Ep 1020/3000 | reward 1324.96 | avg10 1275.12 | eps 0.771 | avg_max_tile_recent 1.0\n",
            "Ep 1030/3000 | reward 809.40 | avg10 1093.87 | eps 0.769 | avg_max_tile_recent 1.0\n",
            "Ep 1040/3000 | reward 1328.68 | avg10 1166.47 | eps 0.766 | avg_max_tile_recent 1.0\n",
            "Ep 1050/3000 | reward 1955.50 | avg10 1279.57 | eps 0.764 | avg_max_tile_recent 1.0\n",
            "Ep 1060/3000 | reward 1772.06 | avg10 1054.35 | eps 0.762 | avg_max_tile_recent 1.0\n",
            "Ep 1070/3000 | reward 1440.20 | avg10 1098.26 | eps 0.759 | avg_max_tile_recent 1.0\n",
            "Ep 1080/3000 | reward 709.80 | avg10 891.10 | eps 0.757 | avg_max_tile_recent 1.0\n",
            "Ep 1090/3000 | reward 1296.76 | avg10 1045.92 | eps 0.755 | avg_max_tile_recent 1.0\n",
            "Ep 1100/3000 | reward 1340.48 | avg10 1109.94 | eps 0.753 | avg_max_tile_recent 1.0\n",
            "Ep 1110/3000 | reward 565.96 | avg10 1276.82 | eps 0.750 | avg_max_tile_recent 1.0\n",
            "Ep 1120/3000 | reward 502.28 | avg10 1023.58 | eps 0.748 | avg_max_tile_recent 1.0\n",
            "Ep 1130/3000 | reward 1376.58 | avg10 1033.57 | eps 0.746 | avg_max_tile_recent 1.0\n",
            "Ep 1140/3000 | reward 1224.50 | avg10 1109.70 | eps 0.743 | avg_max_tile_recent 1.0\n",
            "Ep 1150/3000 | reward 594.08 | avg10 1170.15 | eps 0.741 | avg_max_tile_recent 1.0\n",
            "Ep 1160/3000 | reward 470.34 | avg10 798.47 | eps 0.739 | avg_max_tile_recent 1.0\n",
            "Ep 1170/3000 | reward 2338.80 | avg10 1215.87 | eps 0.736 | avg_max_tile_recent 1.0\n",
            "Ep 1180/3000 | reward 1252.74 | avg10 1030.07 | eps 0.734 | avg_max_tile_recent 1.0\n",
            "Ep 1190/3000 | reward 645.90 | avg10 792.84 | eps 0.732 | avg_max_tile_recent 1.0\n",
            "Ep 1200/3000 | reward 969.60 | avg10 1081.92 | eps 0.730 | avg_max_tile_recent 1.0\n",
            "Ep 1210/3000 | reward 1052.74 | avg10 1164.61 | eps 0.728 | avg_max_tile_recent 1.0\n",
            "Ep 1220/3000 | reward 993.22 | avg10 1404.05 | eps 0.725 | avg_max_tile_recent 1.0\n",
            "Ep 1230/3000 | reward 1101.24 | avg10 1217.27 | eps 0.723 | avg_max_tile_recent 1.0\n",
            "Ep 1240/3000 | reward 1332.12 | avg10 1082.23 | eps 0.720 | avg_max_tile_recent 1.0\n",
            "Ep 1250/3000 | reward 270.78 | avg10 1073.54 | eps 0.718 | avg_max_tile_recent 1.0\n",
            "Ep 1260/3000 | reward 1871.36 | avg10 1257.55 | eps 0.715 | avg_max_tile_recent 1.0\n",
            "Ep 1270/3000 | reward 378.42 | avg10 1141.36 | eps 0.713 | avg_max_tile_recent 1.0\n",
            "Ep 1280/3000 | reward 502.16 | avg10 1055.43 | eps 0.711 | avg_max_tile_recent 1.0\n",
            "Ep 1290/3000 | reward 617.94 | avg10 1197.63 | eps 0.708 | avg_max_tile_recent 1.0\n",
            "Ep 1300/3000 | reward 1316.90 | avg10 966.11 | eps 0.706 | avg_max_tile_recent 1.0\n",
            "Ep 1310/3000 | reward 266.90 | avg10 1040.28 | eps 0.704 | avg_max_tile_recent 1.0\n",
            "Ep 1320/3000 | reward 578.06 | avg10 1158.60 | eps 0.701 | avg_max_tile_recent 1.0\n",
            "Ep 1330/3000 | reward 1388.58 | avg10 1208.06 | eps 0.699 | avg_max_tile_recent 1.0\n",
            "Ep 1340/3000 | reward 1767.88 | avg10 1436.10 | eps 0.696 | avg_max_tile_recent 1.0\n",
            "Ep 1350/3000 | reward 302.80 | avg10 1138.62 | eps 0.694 | avg_max_tile_recent 1.0\n",
            "Ep 1360/3000 | reward 1959.34 | avg10 1165.96 | eps 0.691 | avg_max_tile_recent 1.0\n",
            "Ep 1370/3000 | reward 1228.92 | avg10 973.34 | eps 0.689 | avg_max_tile_recent 1.0\n",
            "Ep 1380/3000 | reward 466.36 | avg10 932.62 | eps 0.687 | avg_max_tile_recent 1.0\n",
            "Ep 1390/3000 | reward 1887.04 | avg10 1237.45 | eps 0.684 | avg_max_tile_recent 1.0\n",
            "Ep 1400/3000 | reward 697.76 | avg10 918.52 | eps 0.682 | avg_max_tile_recent 1.0\n",
            "Ep 1410/3000 | reward 1052.94 | avg10 920.24 | eps 0.680 | avg_max_tile_recent 1.0\n",
            "Ep 1420/3000 | reward 2107.36 | avg10 1130.61 | eps 0.678 | avg_max_tile_recent 1.0\n",
            "Ep 1430/3000 | reward 633.86 | avg10 758.95 | eps 0.676 | avg_max_tile_recent 1.0\n",
            "Ep 1440/3000 | reward 1468.34 | avg10 1162.86 | eps 0.673 | avg_max_tile_recent 1.0\n",
            "Ep 1450/3000 | reward 1256.78 | avg10 1201.04 | eps 0.671 | avg_max_tile_recent 1.0\n",
            "Ep 1460/3000 | reward 1229.02 | avg10 1051.92 | eps 0.669 | avg_max_tile_recent 1.0\n",
            "Ep 1470/3000 | reward 573.90 | avg10 1246.37 | eps 0.666 | avg_max_tile_recent 1.0\n",
            "Ep 1480/3000 | reward 1332.40 | avg10 983.19 | eps 0.664 | avg_max_tile_recent 1.0\n",
            "Ep 1490/3000 | reward 1599.96 | avg10 886.94 | eps 0.662 | avg_max_tile_recent 1.0\n",
            "Ep 1500/3000 | reward 1225.14 | avg10 1101.77 | eps 0.659 | avg_max_tile_recent 1.0\n",
            "Ep 1510/3000 | reward 845.28 | avg10 999.94 | eps 0.657 | avg_max_tile_recent 1.0\n",
            "Ep 1520/3000 | reward 1072.98 | avg10 1220.75 | eps 0.654 | avg_max_tile_recent 1.0\n",
            "Ep 1530/3000 | reward 1380.38 | avg10 1086.16 | eps 0.652 | avg_max_tile_recent 1.0\n",
            "Ep 1540/3000 | reward 633.68 | avg10 886.09 | eps 0.650 | avg_max_tile_recent 1.0\n",
            "Ep 1550/3000 | reward 737.94 | avg10 1014.11 | eps 0.648 | avg_max_tile_recent 1.0\n",
            "Ep 1560/3000 | reward 1999.02 | avg10 1083.41 | eps 0.645 | avg_max_tile_recent 1.0\n",
            "Ep 1570/3000 | reward 1296.28 | avg10 1092.08 | eps 0.643 | avg_max_tile_recent 1.0\n",
            "Ep 1580/3000 | reward 761.72 | avg10 1066.60 | eps 0.641 | avg_max_tile_recent 1.0\n",
            "Ep 1590/3000 | reward 1017.32 | avg10 1090.57 | eps 0.638 | avg_max_tile_recent 1.0\n",
            "Ep 1600/3000 | reward 765.50 | avg10 1174.04 | eps 0.636 | avg_max_tile_recent 1.0\n",
            "Ep 1610/3000 | reward 1017.34 | avg10 1133.72 | eps 0.633 | avg_max_tile_recent 1.0\n",
            "Ep 1620/3000 | reward 1164.64 | avg10 921.27 | eps 0.631 | avg_max_tile_recent 1.0\n",
            "Ep 1630/3000 | reward 2122.36 | avg10 902.19 | eps 0.629 | avg_max_tile_recent 1.0\n",
            "Ep 1640/3000 | reward 1468.34 | avg10 1075.09 | eps 0.627 | avg_max_tile_recent 1.0\n",
            "Ep 1650/3000 | reward 526.32 | avg10 922.99 | eps 0.625 | avg_max_tile_recent 1.0\n",
            "Ep 1660/3000 | reward 1073.28 | avg10 910.18 | eps 0.623 | avg_max_tile_recent 1.0\n",
            "Ep 1670/3000 | reward 1660.20 | avg10 930.13 | eps 0.620 | avg_max_tile_recent 1.0\n",
            "Ep 1680/3000 | reward 577.88 | avg10 973.70 | eps 0.618 | avg_max_tile_recent 1.0\n",
            "Ep 1690/3000 | reward 1444.28 | avg10 1149.68 | eps 0.616 | avg_max_tile_recent 1.0\n",
            "Ep 1700/3000 | reward 306.74 | avg10 736.50 | eps 0.614 | avg_max_tile_recent 1.0\n",
            "Ep 1710/3000 | reward 745.60 | avg10 1171.97 | eps 0.611 | avg_max_tile_recent 1.0\n",
            "Ep 1720/3000 | reward 573.94 | avg10 830.28 | eps 0.609 | avg_max_tile_recent 1.0\n",
            "Ep 1730/3000 | reward 1823.60 | avg10 1014.67 | eps 0.607 | avg_max_tile_recent 1.0\n",
            "Ep 1740/3000 | reward 1228.70 | avg10 1174.01 | eps 0.605 | avg_max_tile_recent 1.0\n",
            "Ep 1750/3000 | reward 1248.80 | avg10 1027.64 | eps 0.602 | avg_max_tile_recent 1.0\n",
            "Ep 1760/3000 | reward 613.78 | avg10 1133.12 | eps 0.600 | avg_max_tile_recent 1.0\n",
            "Ep 1770/3000 | reward 1264.88 | avg10 910.86 | eps 0.598 | avg_max_tile_recent 1.0\n",
            "Ep 1780/3000 | reward 625.94 | avg10 813.20 | eps 0.596 | avg_max_tile_recent 1.0\n",
            "Ep 1790/3000 | reward 1827.70 | avg10 1074.22 | eps 0.593 | avg_max_tile_recent 1.0\n",
            "Ep 1800/3000 | reward 2282.70 | avg10 875.38 | eps 0.591 | avg_max_tile_recent 1.0\n",
            "Ep 1810/3000 | reward 2514.04 | avg10 1318.49 | eps 0.589 | avg_max_tile_recent 1.0\n",
            "Ep 1820/3000 | reward 908.90 | avg10 851.78 | eps 0.586 | avg_max_tile_recent 1.0\n",
            "Ep 1830/3000 | reward 1344.64 | avg10 1011.12 | eps 0.584 | avg_max_tile_recent 1.0\n",
            "Ep 1840/3000 | reward 1048.76 | avg10 1123.77 | eps 0.582 | avg_max_tile_recent 1.0\n",
            "Ep 1850/3000 | reward 522.44 | avg10 1071.76 | eps 0.579 | avg_max_tile_recent 1.0\n",
            "Ep 1860/3000 | reward 1240.34 | avg10 1185.56 | eps 0.577 | avg_max_tile_recent 1.0\n",
            "Ep 1870/3000 | reward 1276.72 | avg10 833.83 | eps 0.575 | avg_max_tile_recent 1.0\n",
            "Ep 1880/3000 | reward 1328.18 | avg10 935.53 | eps 0.572 | avg_max_tile_recent 1.0\n",
            "Ep 1890/3000 | reward 749.28 | avg10 1099.76 | eps 0.570 | avg_max_tile_recent 1.0\n",
            "Ep 1900/3000 | reward 1284.16 | avg10 1116.70 | eps 0.567 | avg_max_tile_recent 1.0\n",
            "Ep 1910/3000 | reward 629.88 | avg10 1062.48 | eps 0.565 | avg_max_tile_recent 1.0\n",
            "Ep 1920/3000 | reward 717.40 | avg10 1064.51 | eps 0.563 | avg_max_tile_recent 1.0\n",
            "Ep 1930/3000 | reward 781.30 | avg10 1029.83 | eps 0.560 | avg_max_tile_recent 1.0\n",
            "Ep 1940/3000 | reward 486.22 | avg10 684.64 | eps 0.558 | avg_max_tile_recent 1.0\n",
            "Ep 1950/3000 | reward 673.62 | avg10 897.93 | eps 0.556 | avg_max_tile_recent 1.0\n",
            "Ep 1960/3000 | reward 1092.40 | avg10 880.88 | eps 0.554 | avg_max_tile_recent 1.0\n",
            "Ep 1970/3000 | reward 1544.30 | avg10 860.10 | eps 0.552 | avg_max_tile_recent 1.0\n",
            "Ep 1980/3000 | reward 450.42 | avg10 730.86 | eps 0.550 | avg_max_tile_recent 1.0\n",
            "Ep 1990/3000 | reward 410.26 | avg10 1128.03 | eps 0.548 | avg_max_tile_recent 1.0\n",
            "Ep 2000/3000 | reward 509.86 | avg10 1048.80 | eps 0.545 | avg_max_tile_recent 1.0\n",
            "Ep 2010/3000 | reward 1379.66 | avg10 1105.00 | eps 0.542 | avg_max_tile_recent 1.0\n",
            "Ep 2020/3000 | reward 422.24 | avg10 1074.98 | eps 0.540 | avg_max_tile_recent 1.0\n",
            "Ep 2030/3000 | reward 781.24 | avg10 919.59 | eps 0.538 | avg_max_tile_recent 1.0\n",
            "Ep 2040/3000 | reward 1112.64 | avg10 1134.75 | eps 0.535 | avg_max_tile_recent 1.0\n",
            "Ep 2050/3000 | reward 673.82 | avg10 1041.41 | eps 0.533 | avg_max_tile_recent 1.0\n",
            "Ep 2060/3000 | reward 306.48 | avg10 1057.33 | eps 0.530 | avg_max_tile_recent 1.0\n",
            "Ep 2070/3000 | reward 1028.70 | avg10 913.47 | eps 0.528 | avg_max_tile_recent 1.0\n",
            "Ep 2080/3000 | reward 538.06 | avg10 1047.16 | eps 0.525 | avg_max_tile_recent 1.0\n",
            "Ep 2090/3000 | reward 689.66 | avg10 790.23 | eps 0.523 | avg_max_tile_recent 1.0\n",
            "Ep 2100/3000 | reward 940.50 | avg10 804.07 | eps 0.521 | avg_max_tile_recent 1.0\n",
            "Ep 2110/3000 | reward 705.64 | avg10 981.01 | eps 0.519 | avg_max_tile_recent 1.0\n",
            "Ep 2120/3000 | reward 2477.72 | avg10 1349.02 | eps 0.516 | avg_max_tile_recent 1.0\n",
            "Ep 2130/3000 | reward 976.82 | avg10 1273.06 | eps 0.513 | avg_max_tile_recent 1.0\n",
            "Ep 2140/3000 | reward 553.82 | avg10 909.63 | eps 0.511 | avg_max_tile_recent 1.0\n",
            "Ep 2150/3000 | reward 1304.34 | avg10 1075.57 | eps 0.508 | avg_max_tile_recent 1.0\n",
            "Ep 2160/3000 | reward 645.82 | avg10 993.24 | eps 0.506 | avg_max_tile_recent 1.0\n",
            "Ep 2170/3000 | reward 621.80 | avg10 1185.64 | eps 0.503 | avg_max_tile_recent 1.0\n",
            "Ep 2180/3000 | reward 609.54 | avg10 687.56 | eps 0.501 | avg_max_tile_recent 1.0\n",
            "Ep 2190/3000 | reward 745.38 | avg10 965.00 | eps 0.499 | avg_max_tile_recent 1.0\n",
            "Ep 2200/3000 | reward 1372.02 | avg10 940.85 | eps 0.496 | avg_max_tile_recent 1.0\n",
            "Ep 2210/3000 | reward 1092.66 | avg10 950.11 | eps 0.494 | avg_max_tile_recent 1.0\n",
            "Ep 2220/3000 | reward 2206.38 | avg10 1013.24 | eps 0.491 | avg_max_tile_recent 1.0\n",
            "Ep 2230/3000 | reward 677.48 | avg10 935.74 | eps 0.489 | avg_max_tile_recent 1.0\n",
            "Ep 2240/3000 | reward 306.66 | avg10 744.54 | eps 0.487 | avg_max_tile_recent 1.0\n",
            "Ep 2250/3000 | reward 788.94 | avg10 802.31 | eps 0.484 | avg_max_tile_recent 1.0\n",
            "Ep 2260/3000 | reward 577.66 | avg10 1179.94 | eps 0.481 | avg_max_tile_recent 1.0\n",
            "Ep 2270/3000 | reward 354.30 | avg10 851.54 | eps 0.479 | avg_max_tile_recent 1.0\n",
            "Ep 2280/3000 | reward 765.24 | avg10 1071.86 | eps 0.477 | avg_max_tile_recent 1.0\n",
            "Ep 2290/3000 | reward 997.04 | avg10 996.85 | eps 0.474 | avg_max_tile_recent 1.0\n",
            "Ep 2300/3000 | reward 721.50 | avg10 981.62 | eps 0.471 | avg_max_tile_recent 1.0\n",
            "Ep 2310/3000 | reward 637.92 | avg10 1041.33 | eps 0.469 | avg_max_tile_recent 1.0\n",
            "Ep 2320/3000 | reward 1532.04 | avg10 1240.62 | eps 0.466 | avg_max_tile_recent 1.0\n",
            "Ep 2330/3000 | reward 1328.02 | avg10 1049.73 | eps 0.463 | avg_max_tile_recent 1.0\n",
            "Ep 2340/3000 | reward 1998.38 | avg10 962.43 | eps 0.461 | avg_max_tile_recent 1.0\n",
            "Ep 2350/3000 | reward 1164.66 | avg10 1095.78 | eps 0.458 | avg_max_tile_recent 1.0\n",
            "Ep 2360/3000 | reward 1001.26 | avg10 999.95 | eps 0.456 | avg_max_tile_recent 1.0\n",
            "Ep 2370/3000 | reward 1463.58 | avg10 888.29 | eps 0.453 | avg_max_tile_recent 1.0\n",
            "Ep 2380/3000 | reward 1364.12 | avg10 970.87 | eps 0.451 | avg_max_tile_recent 1.0\n",
            "Ep 2390/3000 | reward 1783.56 | avg10 1017.87 | eps 0.448 | avg_max_tile_recent 1.0\n",
            "Ep 2400/3000 | reward 721.02 | avg10 1085.05 | eps 0.446 | avg_max_tile_recent 1.0\n",
            "Ep 2410/3000 | reward 737.38 | avg10 830.05 | eps 0.444 | avg_max_tile_recent 1.0\n",
            "Ep 2420/3000 | reward 589.84 | avg10 861.45 | eps 0.441 | avg_max_tile_recent 1.0\n",
            "Ep 2430/3000 | reward 1188.50 | avg10 977.53 | eps 0.439 | avg_max_tile_recent 1.0\n",
            "Ep 2440/3000 | reward 696.82 | avg10 903.85 | eps 0.436 | avg_max_tile_recent 1.0\n",
            "Ep 2450/3000 | reward 1240.48 | avg10 784.95 | eps 0.434 | avg_max_tile_recent 1.0\n",
            "Ep 2460/3000 | reward 733.34 | avg10 897.14 | eps 0.432 | avg_max_tile_recent 1.0\n",
            "Ep 2470/3000 | reward 760.66 | avg10 647.87 | eps 0.430 | avg_max_tile_recent 1.0\n",
            "Ep 2480/3000 | reward 1810.90 | avg10 964.18 | eps 0.428 | avg_max_tile_recent 1.0\n",
            "Ep 2490/3000 | reward 578.00 | avg10 1003.60 | eps 0.425 | avg_max_tile_recent 1.0\n",
            "Ep 2500/3000 | reward 310.34 | avg10 927.72 | eps 0.423 | avg_max_tile_recent 1.0\n",
            "Ep 2510/3000 | reward 230.76 | avg10 1187.35 | eps 0.420 | avg_max_tile_recent 1.0\n",
            "Ep 2520/3000 | reward 1416.40 | avg10 974.11 | eps 0.417 | avg_max_tile_recent 1.0\n",
            "Ep 2530/3000 | reward 1135.66 | avg10 1230.67 | eps 0.414 | avg_max_tile_recent 1.0\n",
            "Ep 2540/3000 | reward 641.32 | avg10 1307.80 | eps 0.411 | avg_max_tile_recent 1.0\n",
            "Ep 2550/3000 | reward 450.26 | avg10 847.93 | eps 0.409 | avg_max_tile_recent 1.0\n",
            "Ep 2560/3000 | reward 721.60 | avg10 1147.32 | eps 0.406 | avg_max_tile_recent 1.0\n",
            "Ep 2570/3000 | reward 701.52 | avg10 1154.81 | eps 0.404 | avg_max_tile_recent 1.0\n",
            "Ep 2580/3000 | reward 921.08 | avg10 939.83 | eps 0.401 | avg_max_tile_recent 1.0\n",
            "Ep 2590/3000 | reward 1112.78 | avg10 1195.96 | eps 0.398 | avg_max_tile_recent 1.0\n",
            "Ep 2600/3000 | reward 1288.60 | avg10 1078.75 | eps 0.396 | avg_max_tile_recent 1.0\n",
            "Ep 2610/3000 | reward 781.30 | avg10 853.98 | eps 0.394 | avg_max_tile_recent 1.0\n",
            "Ep 2620/3000 | reward 593.66 | avg10 1132.27 | eps 0.391 | avg_max_tile_recent 1.0\n",
            "Ep 2630/3000 | reward 964.60 | avg10 983.28 | eps 0.388 | avg_max_tile_recent 1.0\n",
            "Ep 2640/3000 | reward 852.94 | avg10 1092.62 | eps 0.385 | avg_max_tile_recent 1.0\n",
            "Ep 2650/3000 | reward 1156.68 | avg10 1051.45 | eps 0.383 | avg_max_tile_recent 1.0\n",
            "Ep 2660/3000 | reward 1348.22 | avg10 915.49 | eps 0.381 | avg_max_tile_recent 1.0\n",
            "Ep 2670/3000 | reward 1291.86 | avg10 1189.07 | eps 0.378 | avg_max_tile_recent 1.0\n",
            "Ep 2680/3000 | reward 844.74 | avg10 976.84 | eps 0.375 | avg_max_tile_recent 1.0\n",
            "Ep 2690/3000 | reward 797.28 | avg10 987.68 | eps 0.373 | avg_max_tile_recent 1.0\n",
            "Ep 2700/3000 | reward 481.92 | avg10 956.52 | eps 0.370 | avg_max_tile_recent 1.0\n",
            "Ep 2710/3000 | reward 546.12 | avg10 913.95 | eps 0.368 | avg_max_tile_recent 1.0\n",
            "Ep 2720/3000 | reward 2022.60 | avg10 1205.51 | eps 0.365 | avg_max_tile_recent 1.0\n",
            "Ep 2730/3000 | reward 1144.66 | avg10 1122.33 | eps 0.362 | avg_max_tile_recent 1.0\n",
            "Ep 2740/3000 | reward 645.52 | avg10 891.10 | eps 0.360 | avg_max_tile_recent 1.0\n",
            "Ep 2750/3000 | reward 1388.28 | avg10 897.85 | eps 0.358 | avg_max_tile_recent 1.0\n",
            "Ep 2760/3000 | reward 569.98 | avg10 629.64 | eps 0.356 | avg_max_tile_recent 1.0\n",
            "Ep 2770/3000 | reward 1407.86 | avg10 826.09 | eps 0.354 | avg_max_tile_recent 1.0\n",
            "Ep 2780/3000 | reward 1164.52 | avg10 830.71 | eps 0.351 | avg_max_tile_recent 1.0\n",
            "Ep 2790/3000 | reward 601.46 | avg10 1002.86 | eps 0.349 | avg_max_tile_recent 1.0\n",
            "Ep 2800/3000 | reward 705.76 | avg10 1056.82 | eps 0.346 | avg_max_tile_recent 1.0\n",
            "Ep 2810/3000 | reward 115.14 | avg10 906.71 | eps 0.344 | avg_max_tile_recent 1.0\n",
            "Ep 2820/3000 | reward 2118.52 | avg10 1301.07 | eps 0.341 | avg_max_tile_recent 1.0\n",
            "Ep 2830/3000 | reward 973.34 | avg10 1198.95 | eps 0.338 | avg_max_tile_recent 1.0\n",
            "Ep 2840/3000 | reward 1009.34 | avg10 849.30 | eps 0.336 | avg_max_tile_recent 1.0\n",
            "Ep 2850/3000 | reward 1164.14 | avg10 1070.55 | eps 0.333 | avg_max_tile_recent 1.0\n",
            "Ep 2860/3000 | reward 290.56 | avg10 790.60 | eps 0.331 | avg_max_tile_recent 1.0\n",
            "Ep 2870/3000 | reward 1395.72 | avg10 937.08 | eps 0.329 | avg_max_tile_recent 1.0\n",
            "Ep 2880/3000 | reward 765.14 | avg10 947.31 | eps 0.326 | avg_max_tile_recent 1.0\n",
            "Ep 2890/3000 | reward 737.46 | avg10 947.42 | eps 0.324 | avg_max_tile_recent 1.0\n",
            "Ep 2900/3000 | reward 457.62 | avg10 1128.73 | eps 0.322 | avg_max_tile_recent 1.0\n",
            "Ep 2910/3000 | reward 1372.08 | avg10 951.80 | eps 0.319 | avg_max_tile_recent 1.0\n",
            "Ep 2920/3000 | reward 877.02 | avg10 863.62 | eps 0.317 | avg_max_tile_recent 1.0\n",
            "Ep 2930/3000 | reward 602.00 | avg10 886.24 | eps 0.315 | avg_max_tile_recent 1.0\n",
            "Ep 2940/3000 | reward 1232.46 | avg10 1117.00 | eps 0.312 | avg_max_tile_recent 1.0\n",
            "Ep 2950/3000 | reward 1579.84 | avg10 945.44 | eps 0.310 | avg_max_tile_recent 1.0\n",
            "Ep 2960/3000 | reward 1232.76 | avg10 717.11 | eps 0.308 | avg_max_tile_recent 1.0\n",
            "Ep 2970/3000 | reward 657.68 | avg10 952.86 | eps 0.305 | avg_max_tile_recent 1.0\n",
            "Ep 2980/3000 | reward 1272.18 | avg10 1154.99 | eps 0.302 | avg_max_tile_recent 1.0\n",
            "Ep 2990/3000 | reward 893.46 | avg10 1056.78 | eps 0.300 | avg_max_tile_recent 1.0\n",
            "Ep 3000/3000 | reward 1028.68 | avg10 820.73 | eps 0.298 | avg_max_tile_recent 1.0\n"
          ]
        },
        {
          "output_type": "display_data",
          "data": {
            "text/plain": [
              "<Figure size 1200x400 with 2 Axes>"
            ],
            "image/png": "[encoded data removed]"
          },
          "metadata": {}
        }
      ],
      "source": [
        "# Train with improved function. Increase episodes if you have time/GPU.\n",
        "q_net, rewards, best_tile_hist = train_dqn_improved(\n",
        "    episodes=3000,            # raise to 3000+ if you have GPU/time\n",
        "    gamma=0.99,\n",
        "    lr=5e-4,\n",
        "    batch_size=256,\n",
        "    replay_capacity=200_000,\n",
        "    start_learning_after=5000,   # fill some buffer before learning\n",
        "    target_update_every=50,\n",
        "    train_updates_per_step=4,\n",
        "    epsilon_decay_steps=600_000,\n",
        "    max_pow=16,\n",
        "    max_steps_per_episode=1000,\n",
        "    no_change_penalty=-0.02,\n",
        "    max_tile_bonus_scale=0.5,\n",
        ")\n",
        "plt.figure(figsize=(12,4))\n",
        "plt.subplot(1,2,1)\n",
        "plt.plot(rewards)\n",
        "plt.title(\"Episode shaped rewards\")\n",
        "plt.xlabel(\"Episode\")\n",
        "plt.subplot(1,2,2)\n",
        "plt.plot(best_tile_hist)\n",
        "plt.title(\"Max tile reached per episode (log2 tile value)\")\n",
        "plt.xlabel(\"Episode\")\n",
        "plt.tight_layout()\n",
        "plt.show()"
      ]
    },
    {
      "cell_type": "markdown",
      "metadata": {
        "id": "9iHhIYa8nLMa"
      },
      "source": [
        "# Record Gameplay Video"
      ]
    },
    {
      "cell_type": "code",
      "execution_count": null,
      "metadata": {
        "id": "UxqIv07NnLwI",
        "colab": {
          "base_uri": "https://localhost:8080/"
        },
        "outputId": "b6e772e0-c50f-4ef0-d3f4-d4f5988aeb4b"
      },
      "outputs": [
        {
          "output_type": "stream",
          "name": "stdout",
          "text": [
            "\n",
            "🎮 Recording Episode 1/5...\n"
          ]
        },
        {
          "output_type": "stream",
          "name": "stderr",
          "text": [
            "/usr/local/lib/python3.12/dist-packages/gymnasium/wrappers/record_video.py:94: UserWarning: \u001b[33mWARN: Overwriting existing videos at /content/videos/episode_1 folder (try specifying a different `video_folder` for the `RecordVideo` wrapper if this is not desired)\u001b[0m\n",
            "  logger.warn(\n"
          ]
        },
        {
          "output_type": "stream",
          "name": "stdout",
          "text": [
            "🛑 Episode 1 ended early (no score improvement).\n"
          ]
        },
        {
          "output_type": "stream",
          "name": "stderr",
          "text": [
            "/usr/local/lib/python3.12/dist-packages/moviepy/config_defaults.py:47: SyntaxWarning: invalid escape sequence '\\P'\n",
            "  IMAGEMAGICK_BINARY = r\"C:\\Program Files\\ImageMagick-6.8.8-Q16\\magick.exe\"\n"
          ]
        },
        {
          "output_type": "stream",
          "name": "stdout",
          "text": [
            "Moviepy - Building video /content/videos/episode_1/rl-video-episode-0.mp4.\n",
            "Moviepy - Writing video /content/videos/episode_1/rl-video-episode-0.mp4\n",
            "\n"
          ]
        },
        {
          "output_type": "stream",
          "name": "stderr",
          "text": [
            "/usr/local/lib/python3.12/dist-packages/gymnasium/wrappers/record_video.py:94: UserWarning: \u001b[33mWARN: Overwriting existing videos at /content/videos/episode_2 folder (try specifying a different `video_folder` for the `RecordVideo` wrapper if this is not desired)\u001b[0m\n",
            "  logger.warn(\n"
          ]
        },
        {
          "output_type": "stream",
          "name": "stdout",
          "text": [
            "Moviepy - Done !\n",
            "Moviepy - video ready /content/videos/episode_1/rl-video-episode-0.mp4\n",
            "✅ Saved video for Episode 1 | Total Reward: 32.00\n",
            "\n",
            "🎮 Recording Episode 2/5...\n",
            "🛑 Episode 2 ended early (no score improvement).\n",
            "Moviepy - Building video /content/videos/episode_2/rl-video-episode-0.mp4.\n",
            "Moviepy - Writing video /content/videos/episode_2/rl-video-episode-0.mp4\n",
            "\n"
          ]
        },
        {
          "output_type": "stream",
          "name": "stderr",
          "text": [
            "/usr/local/lib/python3.12/dist-packages/gymnasium/wrappers/record_video.py:94: UserWarning: \u001b[33mWARN: Overwriting existing videos at /content/videos/episode_3 folder (try specifying a different `video_folder` for the `RecordVideo` wrapper if this is not desired)\u001b[0m\n",
            "  logger.warn(\n"
          ]
        },
        {
          "output_type": "stream",
          "name": "stdout",
          "text": [
            "Moviepy - Done !\n",
            "Moviepy - video ready /content/videos/episode_2/rl-video-episode-0.mp4\n",
            "✅ Saved video for Episode 2 | Total Reward: 0.00\n",
            "\n",
            "🎮 Recording Episode 3/5...\n",
            "🛑 Episode 3 ended early (no score improvement).\n",
            "Moviepy - Building video /content/videos/episode_3/rl-video-episode-0.mp4.\n",
            "Moviepy - Writing video /content/videos/episode_3/rl-video-episode-0.mp4\n",
            "\n"
          ]
        },
        {
          "output_type": "stream",
          "name": "stderr",
          "text": [
            "/usr/local/lib/python3.12/dist-packages/gymnasium/wrappers/record_video.py:94: UserWarning: \u001b[33mWARN: Overwriting existing videos at /content/videos/episode_4 folder (try specifying a different `video_folder` for the `RecordVideo` wrapper if this is not desired)\u001b[0m\n",
            "  logger.warn(\n"
          ]
        },
        {
          "output_type": "stream",
          "name": "stdout",
          "text": [
            "Moviepy - Done !\n",
            "Moviepy - video ready /content/videos/episode_3/rl-video-episode-0.mp4\n",
            "✅ Saved video for Episode 3 | Total Reward: 40.00\n",
            "\n",
            "🎮 Recording Episode 4/5...\n",
            "🛑 Episode 4 ended early (no score improvement).\n",
            "Moviepy - Building video /content/videos/episode_4/rl-video-episode-0.mp4.\n",
            "Moviepy - Writing video /content/videos/episode_4/rl-video-episode-0.mp4\n",
            "\n"
          ]
        },
        {
          "output_type": "stream",
          "name": "stderr",
          "text": [
            "/usr/local/lib/python3.12/dist-packages/gymnasium/wrappers/record_video.py:94: UserWarning: \u001b[33mWARN: Overwriting existing videos at /content/videos/episode_5 folder (try specifying a different `video_folder` for the `RecordVideo` wrapper if this is not desired)\u001b[0m\n",
            "  logger.warn(\n"
          ]
        },
        {
          "output_type": "stream",
          "name": "stdout",
          "text": [
            "Moviepy - Done !\n",
            "Moviepy - video ready /content/videos/episode_4/rl-video-episode-0.mp4\n",
            "✅ Saved video for Episode 4 | Total Reward: 0.00\n",
            "\n",
            "🎮 Recording Episode 5/5...\n",
            "🛑 Episode 5 ended early (no score improvement).\n",
            "Moviepy - Building video /content/videos/episode_5/rl-video-episode-0.mp4.\n",
            "Moviepy - Writing video /content/videos/episode_5/rl-video-episode-0.mp4\n",
            "\n"
          ]
        },
        {
          "output_type": "stream",
          "name": "stderr",
          "text": []
        },
        {
          "output_type": "stream",
          "name": "stdout",
          "text": [
            "Moviepy - Done !\n",
            "Moviepy - video ready /content/videos/episode_5/rl-video-episode-0.mp4\n",
            "✅ Saved video for Episode 5 | Total Reward: 8.00\n",
            "\n",
            "🎬 All episodes recorded! Check the './videos' folder.\n"
          ]
        }
      ],
      "source": [
        "import os\n",
        "import torch\n",
        "from gymnasium.wrappers import RecordVideo\n",
        "\n",
        "# === Configuration ===\n",
        "video_dir = \"./videos\"\n",
        "num_episodes = 5          # Number of episodes to record\n",
        "max_steps = 500           # Safety cap per episode\n",
        "os.makedirs(video_dir, exist_ok=True)\n",
        "\n",
        "# === Environment Setup ===\n",
        "env = gym.make(\n",
        "    \"gymnasium_2048:gymnasium_2048/TwentyFortyEight-v0\",\n",
        "    size=4,\n",
        "    max_pow=16,\n",
        "    render_mode=\"rgb_array\"\n",
        ")\n",
        "\n",
        "# === Record Multiple Episodes ===\n",
        "for ep in range(1, num_episodes + 1):\n",
        "    print(f\"\\n🎮 Recording Episode {ep}/{num_episodes}...\")\n",
        "\n",
        "    # Each episode gets its own subfolder for video files\n",
        "    episode_dir = os.path.join(video_dir, f\"episode_{ep}\")\n",
        "    os.makedirs(episode_dir, exist_ok=True)\n",
        "\n",
        "    # Wrap environment to record this episode\n",
        "    record_env = RecordVideo(env, episode_dir, episode_trigger=lambda x: True)\n",
        "\n",
        "    obs = safe_reset(record_env)\n",
        "    state = preprocess_obs(obs)\n",
        "    done = False\n",
        "    total_reward = 0\n",
        "\n",
        "    # Track stagnation to stop early if no score improvement\n",
        "    stagnant_steps = 0\n",
        "    last_score = 0\n",
        "\n",
        "    for step in range(max_steps):\n",
        "        with torch.no_grad():\n",
        "            action = torch.argmax(q_net(torch.FloatTensor(state).to(device))).item()\n",
        "        next_obs, reward, terminated, truncated, info = record_env.step(action)\n",
        "        total_reward += reward\n",
        "        state = preprocess_obs(next_obs)\n",
        "        done = terminated or truncated\n",
        "\n",
        "        current_score = info.get(\"score\", 0)\n",
        "        if current_score <= last_score:\n",
        "            stagnant_steps += 1\n",
        "        else:\n",
        "            stagnant_steps = 0\n",
        "        last_score = current_score\n",
        "\n",
        "        # End episode early if stagnant for too long\n",
        "        if stagnant_steps > 100:\n",
        "            print(f\"🛑 Episode {ep} ended early (no score improvement).\")\n",
        "            break\n",
        "\n",
        "        if done:\n",
        "            break\n",
        "\n",
        "    record_env.close()\n",
        "    print(f\"✅ Saved video for Episode {ep} | Total Reward: {total_reward:.2f}\")\n",
        "\n",
        "env.close()\n",
        "print(\"\\n🎬 All episodes recorded! Check the './videos' folder.\")"
      ]
    },
    {
      "cell_type": "markdown",
      "metadata": {
        "id": "vf4Uu79tnPuN"
      },
      "source": [
        "# Watch the Recorded Video"
      ]
    },
    {
      "cell_type": "code",
      "execution_count": null,
      "metadata": {
        "id": "1cdDX2ZLnSrx",
        "colab": {
          "base_uri": "https://localhost:8080/",
          "height": 980
        },
        "outputId": "b26734da-c1ba-4015-e721-d88bb6865455"
      },
      "outputs": [
        {
          "output_type": "stream",
          "name": "stdout",
          "text": [
            "🎬 Found 5 recorded episode(s).\n",
            "\n",
            "Playing: ./videos/episode_1/rl-video-episode-0.mp4\n"
          ]
        },
        {
          "output_type": "display_data",
          "data": {
            "text/plain": [
              "<IPython.core.display.Video object>"
            ],
            "text/html": [
              "<video controls  >\n",
              " <source src=\"data:video/mp4;base64,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\" type=\"video/mp4\">\n",
              " Your browser does not support the video tag.\n",
              " </video>"
            ]
          },
          "metadata": {}
        },
        {
          "output_type": "stream",
          "name": "stdout",
          "text": [
            "\n",
            "Playing: ./videos/episode_2/rl-video-episode-0.mp4\n"
          ]
        },
        {
          "output_type": "display_data",
          "data": {
            "text/plain": [
              "<IPython.core.display.Video object>"
            ],
            "text/html": [
              "<video controls  >\n",
              " <source src=\"data:video/mp4;base64,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\" type=\"video/mp4\">\n",
              " Your browser does not support the video tag.\n",
              " </video>"
            ]
          },
          "metadata": {}
        },
        {
          "output_type": "stream",
          "name": "stdout",
          "text": [
            "\n",
            "Playing: ./videos/episode_3/rl-video-episode-0.mp4\n"
          ]
        },
        {
          "output_type": "display_data",
          "data": {
            "text/plain": [
              "<IPython.core.display.Video object>"
            ],
            "text/html": [
              "<video controls  >\n",
              " <source src=\"data:video/mp4;base64,AAAAIGZ0eXBpc29tAAACAGlzb21pc28yYXZjMW1wNDEAAAAIZnJlZQAAOl1tZGF0AAACrQYF//+p3EXpvebZSLeWLNgg2SPu73gyNjQgLSBjb3JlIDE2NCByMzE5MSA0NjEzYWMzIC0gSC4yNjQvTVBFRy00IEFWQyBjb2RlYyAtIENvcHlsZWZ0IDIwMDMtMjAyNCAtIGh0dHA6Ly93d3cudmlkZW9sYW4ub3JnL3gyNjQuaHRtbCAtIG9wdGlvbnM6IGNhYmFjPTEgcmVmPTMgZGVibG9jaz0xOjA6MCBhbmFseXNlPTB4MzoweDExMyBtZT1oZXggc3VibWU9NyBwc3k9MSBwc3lfcmQ9MS4wMDowLjAwIG1peGVkX3JlZj0xIG1lX3JhbmdlPTE2IGNocm9tYV9tZT0xIHRyZWxsaXM9MSA4eDhkY3Q9MSBjcW09MCBkZWFkem9uZT0yMSwxMSBmYXN0X3Bza2lwPTEgY2hyb21hX3FwX29mZnNldD0tMiB0aHJlYWRzPTMgbG9va2FoZWFkX3RocmVhZHM9MSBzbGljZWRfdGhyZWFkcz0wIG5yPTAgZGVjaW1hdGU9MSBpbnRlcmxhY2VkPTAgYmx1cmF5X2NvbXBhdD0wIGNvbnN0cmFpbmVkX2ludHJhPTAgYmZyYW1lcz0zIGJfcHlyYW1pZD0yIGJfYWRhcHQ9MSBiX2JpYXM9MCBkaXJlY3Q9MSB3ZWlnaHRiPTEgb3Blbl9nb3A9MCB3ZWlnaHRwPTIga2V5aW50PTI1MCBrZXlpbnRfbWluPTQgc2NlbmVjdXQ9NDAgaW50cmFfcmVmcmVzaD0wIHJjX2xvb2thaGVhZD00MCByYz1jcmYgbWJ0cmVlPTEgY3JmPTIzLjAgcWNvbXA9MC42MCBxcG1pbj0wIHFwbWF4PTY5IHFwc3RlcD00IGlwX3JhdGlvPTEuNDAgYXE9MToxLjAwAIAAAAv1ZYiEABD//vIjfmWWsgXH2QKkEPKff8gwQ5CnNekjQb0/IDQyI6oPTMAAAAUPanb6xVAJTyGX4W4p7hAvFFry09NTAEorGZz88JZPCf6cblrb4AnNVBMPuVdXPFvgsud3S6mNLdq3b6dZymVZdMVMP8M/+GBl3Ndh107ei0yLggJ4OUPhlD0uDiVXCsFIAIrWtekBqm1l2U/2xDI/5j0O7cjW4d5pQSowYgSWOB/M77VBNdIqo7A+g8Qm/2dbLa2Em8SCjGHEi4hL2MRo+MA45ntJND42MmeSY9peUGJq6zJ/hahS2CXlr6Esyhth7eyKRAnpdr6UKaM538C/jReSuDCkAp4oXQBcUfn6wpt5mihR7vrSgnZgQ/PV/qTVcb0KYau+bH/B32CxD0NrmQv3Y5nzR2zmtnetdl1f0qcawI/97fIpbmIDhv3q4A0LRkuiqezj/S8RXfyiNPGr1I9coHLu3r9quAMsoAdjmFKaxxUP3K0xALhW29g9+lLMCfEe9Z3t8eG/iaVE+P6p+kXRN6+jTVa/yyKqYOlpLmCZPf/0a/E92EarwPlyso2km02yBcP/L2oiu/zVfZPaDIecQeOyw+0lKAkQZc6uufLsSluQMYEbPVZhJj6qEcCeobBqAJpUOisK0lJX1l6eTXImZgr8X/yQ5IuuAATBtUFVP+91z3Mqk3AEKLT1IkqQZ4nWH+Rol53J/5+izsIP/2KDyJ5MbRL0gcnaSalXWYtprcjZhp9gymkzOHkk6b4v//MA5Y2jiJ5fjbYov4Sg4s1N0jaLUg7AO1SE4+1ggU0TIxksYk5nFGzQjH8Wy4JzKcJHhFnsQu3+B2WIVAXV9DXbXSx9gXDMXOJbPc///Y2Yd+hzV1bUFshy9NNO4wZ4TrhiClS80GBacYFd1uvY5wLiwtDZft+OMp9OdwmGJTJmTDt1Fh6nMRwcoADwtuouRVyFOU8e6TIuT8Qk6nd+m9qbqwvQ5SN2DcjcOXk5wawEN2vHMR/TrVcnslfcbC8r3rKVJRLOZ7J4hDvFLxsRaqZB8A0l+/fJ9isc/P9eamTMRGHXZSR9U0gtsGfClu/pStjK6zN+/n0gyxUxZDgPZ8yVjA8DCS6rZkzaH7o1+6Bh8+Wqb7r8GMxYMgjTBlek8XN2opapu0Cfpv0F4cMVeQgMLZB/UckDFIosDZgCFWhd8yKdiM+lZdfxogQTglv2ogl5vL2a9iTeCHKWdyr4+VbOz5cAZ+/3v8zvnVM4Qd6chNnRSE8LrTi9AB6ij9j+kTj1k24oteC/7mICucaA7Fd+AZpzIBWzbRMe5dO/MfrSbvC936arAj4xmJEoCLicqgrURR+6BFkiRlSJTBcELCi/qeZJpLBi4WYY9fNuSxk+zTHpXCh/5zI7FKErtg0WBMsaPAovhS6U8+oShAf7EOia1HEqf2DhIyU4CiUsdGBDKcDy7Z8j62SgtJC5BefE3EAJMHjibbtZOx8xgFJ9z6HiIO77QOSMBWbfquj3+/Dd72hCvuQFxbhcIGALMmdOGdgqWhwu24Z/ytvv/LRPMpPB9XZJ7a007UFSjb6wLjB6QECELjtd8L0qg8LswFrP4djuKtLZPdV9C4H+xqwrXTLm399syUlwg7Oor0zqgP3idm4dkCFGgd1KneFYZRXM0YBWDR6d3LqTj+o72zOVo1RVyLXDgDh6QLgNC/Mq50WNDbFDyW/tlyf9BeuXt0KJoE8oDkpFC5MWIw4KiDZhhXeLk7CmRP6a96jvtzoxeK8uF1IXuAF0ZPGwnWpZscyvw6f5UPvwCmByf2BstFMd+1OHfDg7hjon9wDC7se8aTygXimv1SDFID0B5hHgX0teIQ+yZS+RX4aiQNf3NnbyJqUq8jrp8CalYZmO2pOQs6IX5eSf6rX8gsijhzHTwnwBoFqglqUFwUw4Cb0vME1xo0LbpgFTJeTqqCXCHv5wI1kX0S0h47v6DpsKNH6iW6n1RqtdZa5+rLcvqYYj0h6qn9a6j4ulKXStgGZWMi6QPUHtsGkaaHS2iNoJyXIT5C+cxrPdAjEJUUECnYg8/A1xdk0WVZn3AiTSriLyffdLiXiK/gsyefzkPbU3ObD7/t2X8NSba8Hut0xJ1z97Tm2InZI+N4MFXStuEoUopkg3JI/k4KHG7qYOoZKYhfuUC7Bx2BKg9S5fxBGpXn5XdWIGhKPkPnPILaE1KizPA3DUap4tJwWUSHRRinrwAky8k6FnNA5nlUa/ADBQFM5V54Phy9t0GTS02Glxn0FZKBACMleoJexGEmvvrRDSY/aJ8a+qfGjOykF7H9LJAB4q7+Mts/YEMCPekvJu7zg5sF1Y9ph2yDppCoP+clrRiSjKIOL+JNFQLpUjgcrR4oFQnY2phkT3+H0aqn61HkE2EGb7n8Cqr7oaULAAbuD+vpUx58mAA38XkM59y8EBlFjg3hLhc8SUdIcDBwAFmFSgT9NflyqFHzEn16S6xHoAznjvFZ7mosr17PPrxJkTWy6Dyg4HAk6HvR1WL8IDb0PgfJzcOjCJFCkQd3TJokJ1CYaLxxF/w4YF63+9bqxYgAnxFmUpL3i+YuvOl0Yxk1+9VIGmvblGUKwUK3HqDbCglFvDRBvKGzzIxnt67s3DVbb1AMVJJ2UXTFSrHof/RbaJMqdJQxbhBJOqOtb7RJZd93LvSZpK/NQ04ozVaWKOsLiOMLX46QSdKx/p67SsuGAHpVsIVWiPgbJOt+DIaMUuJsnR71d+Z52QXrtuhlx1ProLw//ZvVEawx/fdHbGi99WmgSFnmuSr/RT5k4PjuVwZbOHHdR22d22KFkcxXeSpISFAX+F2HggAWv1uoGuvocZIgBy/sdX42F7YPsbJuYjza79UD8LxDDK/vFAtlPei5ciCVXuS1IZd+7dI30LF9ufxCQ6Q6ac49hJD8CSWHhPGSeUAyR/u/9zO9YKFEfhshnqDBaGfQx6s/z9l20Q5GaKknlgmHoD1mKK3myYuY5iAp5tMvWg4jFPOJUj3OWfiv9fTmKp6RA6aRLZtEOdNLkOYH0YCbYkEjvPg/caR0jd59fUOhEWasGR2iileJMdIig8STyfQDYe4jvtYIi0L2Q45Kwvj6GdUyivsOKkozxaMJSLDSdrm+syOMgogxR83cC4zuJEI3B5epBCEvFbkssazUPENa91QUQ4egbWoEQrWKZ45OBucaEDSDtxN7mCNIUwIoubZA9rpKdB7RiReh97//1cBIKxgo0wJ+Ca/HZRyI1E693g3n/+0ui14+ste6ff64JIVqN+jAfuwqcU8Smha7KpP3KRWl37MBlVnUUkpC6V9eB0/Un2SkwEDv//7eyBs1etxCXSSpRO7J//ejHOiq2BJ/q9qBFfb8SoIyzoa5d7HOx1SSwASR1Fx0iqjzFkm/duTspQsimhTFzAOc2auE8IyFaF42Nux+tPWC/s8uGKT5muZwSlFMK2uUwxB0lIZuBMjxJDlNQCpHuh61Rf/jlWCMvNViqBIxrbgs+sSovtHrSP4o9PeJo3AnSmG717/ijM2+yOpLGn+5+ZImU/YxWW2HMzpL3AajiJZto9FyqoAkrBGByAmYynB2/H0WTDprgtOEWpwZpFjWmbBZqq+UoMqqL+A959ginn/k1lgBM9WsI1PTAFDWTYZihsuKSwla6HDUleQbeZxfB3+8K0SatU1CTwv745R62a/0sOJICx51ll27FHbCuuIMWIujgc0aflcAF7uYXd6mGFu1RgYACE7YczitMQvLtg8UL7xR07E5caF6hll5jhTUhs18Oe8tNK8Hp13xa4nbb4RLd/xsqCDm+86oAMHm+kvQD10huX1tQxSRrlEm1lNOn9OAzXEzXJWFAuO9lkFMIvoulVVF4pWWHmarDHMeyinaWuh4xvD+90i46CYfe4Bi6j7LgO/QNCJIMpF8mfgn8KqwAhhF4eRF4i7PELSQeKnWGjcH+3MSJmSKwAwNJiWbK6JVgbu0LDrGq+8RiDhpy+RdsaLxiOvH1AqmFg6GfB4CQKlSr5hIXsERlIJr/WE6RmnO5VciMpOzB/YSE3S09XKVLO5gbr0V2TwNABN+5o0QAAAehBmiFsQQ/+qlUBuZOGIAHz83VInUIglV+dHTYonQ4GEbVBlH67jl7B2elQLlipV5FanU0fya1Ku85rzMSc7Q/VpRril3oaVbPuSRaWqHIVI8odu58r2vhu3IFIj0AY4IL2lD2ZabUac7+KJAxkptekQJ+wQ6olpzjBuXHvmnkxNQnk99gbDV8wk36HO5r87Vi2jWXn1R//1VFKD9M4h7JVTYDyCmN8gDMQxjbD3D+8WpIDf10bIN0hxNi31KufahSOFuPZU/LushOqfBrn36O0P7wjdjXS9mwZKMUvm1cmn7Y3LNhiip3v6xxDx95T7YGViuDjICBD14OacVDls6w4Xyc9C5gh689okhxR6B+orwrJh49cQf02DHigzCRZHTgcOJLbrhk8lp1Ye0LJkBC+DfxW6eZY2TMiBLhRp4Ifl/tjuFZXfk38OHN5HWl2MPgne6LSPU/No8LtF/EHyAAJe6EpFBfoe3PCCV5VWNTtff3fLF/wnriOJxbmTmYbHu0BasRZ8YwnhrLG4sXpjr/rcjBIuVnx662ZLOH6C2FlbUS7eghzuRlrQjoq70xcYCR+CJJ9uU8seR+/57LjQBQ5QzxwHT7RUlL9Nwa8A8NMCHEBavQ50rjZWeEGIUQBH4QSoHCohj4svAAAA3BBmkM8IZMphBD//qpVA/A9cALD8uAGllItwaLONs6ZrCc5ZGv0ye47K7HGMG8DYa5ywdgDEmPm5vcP+OaYMsppdiG2SAMRmzHHV+H/ndv5wUYr+6eWFTsdUxa0ssIzOaOr4fZA5aRxvLqR1aYVoNCzMLiZ6MN8WoFgC9vLLwIplIOK9gQYd+ZhCrIKUJgkkr/72yQjygj61vc7R1QB0ih0Msi+6aiy3KQYdPt8y5xrhyd+zLc/wlVhWgV+0vrxvBUcLqPzb6K1WcmPXFSQxQEF+kndPoxb9yrLfvrQUHRa5GJhD96oXp3pSnzbMT5lMrqdk4K0FSpbAnt6XD/QKRO4xKoy35smB4IVGuVsDS8REdpvuiKQwwlR3wrqmNsq/N6mp6QCrnETKUwcvIYmaIKCxbCUpUKejW7keigp58O5RKQeXbxFQ0+pLTb+0AByteE8RFxwILfLvIe+svBIUFeE1gpGSdIRV3ihV9SCcc68ra06CJ23wELfvtbgtyDVVuB/pqPtW53cY4hPefYqmApNL7zWwInkAMPl95g6cBFpvnEd46EKMKBgGfgK/r49pTUJ5dXp5rUdJyi/dRTHRZniRTmp3XYNWN/UvdeKZDXestIH2d8ou5wO/o9JXAyGCGll4kqDVOUKs5mEwQ0TsXWzzlnx+SB0MDB8coSWjwCbop31sfaLlKcXbM6iwY1bdzLO8jPlW5FfV6lcA2urjQp+oUYNYpt8sd0VVZXnv8m5j7EErbTC8MJvPkHGGhHQ3B3yaDVfNdb9V7YxYPRhDmO3ACdQJLnaxKI2jEWIiUQtIOq/69hEMLA5WynXBzs9NdYlKkAUg/AHp/yVVfg6s15foe/yT6sXSxcMbfyHazYTcmaCqk2BakgT/QLBD+dVg7K5bsEYDfK5fg9SnkQ7ZOEYocQ17uMb54lO+03mt/pXgdOtmKxUTuaS5vasPnqCwWkDyg5vGA9i7VgAAsblvKHCAVwSAFSjnT1vHTUXzy9kkT2/g8YbXaItM1HMgFN3LjFmRYqbxXU419ANzPsgVk09VJoNeOLRAKxbkvw3Cp2RIWgXnwjSoDgxPQKOf68pUjRI4Pfzg0SroCEg2G4GqlFguNKci1dSihvnQ5G825nzzywPfAZ4Y0LbRPugETvFTnKtxMO7l0BcdqyX2neZlowJAAAAfwGeYmpDfwGX8lIw2GExwmfCknh5GU+4gsqIv5948rmgTXhODtbdmMaN15VyPCYfScrNcpXhETyBx3NxI0XnHf172s4rBCC5TY8YzD1/AD+WJl8ZR6AdP6uby80YWk4PgXJXn+xNklLz8/YHc02HIacdFrFVGhYRayPBLMIdqwQAAACdQZpkSeEPJlMCCH/+qlUBuwMIK0CqqzJiQjCdOwhGJ9w3wQKHxsxcpfI9ZegQ2sGcJ/D6xJnyFHQAFPNExk7rR/71U0jhtzN2lfu9v79yRHtEyIFyrqwk2EGLjrQ4rZmgG86cErtc3rv9sQL1+KV6D5CqkLAtkBY/lvObjN3BDFbMSLZQQqat1OkjSrCNkFEc4upKQxAn4fq9koGQQQAAArJBmoVJ4Q8mUwIIf/6qVQP0eEMvBnmPGVIMWa4gAG1PwOU6j/lyMLeblDyPh9ABFm9D74WNSgQntZqgazvKpSDvW4Rp2BA3PJBphIkqilJxVu6f1Dj3UJuykGT19Bb7LD0D9v8FgR59pvVRPXYrnvqo7X2ofZHRAWba1q5NLmBvNHiQjuK1y7J4XRxac3OlAz1JplPwnsWfOr3r2ak3N7LC0F0W9Pzu/UcYdzUwH+eU0rf4vS9zPyeEeuwpUPhX6jdLKQoP/we/EB0XSYMvzVfMamynjZ092v9peVmERgZAD5gb2UgPIZMq5X1vkwdxzIT0maeAU0FLgkZXdJ96Gmra+bxcFgdv8aZyaqj+0t0Zl7EGPX+jLGb1Jzi85XlL5FgdfTiKfMQMy0CobSSZjaG4deWuTozxbzO+tEM7U7s6rrW2fT1XYufzXTMC2Ca/9qWY9y87iVLNvKhruL/yDGwURCP5v4pnqyEuu4t7Jit/4CpqwTTOWy8vm4G+pskzBvll+x5NCKSsvF2/vnck4/jqttjKDaBa6Pg7Z/j8QeU0J5SoiNVQTkknuXahz55p+TZNeZm6RpTPHvYz0j7K0L93SadxNllkym1zTQVJPoxqLuMzfzmKZX6iJahlqKH79wrQm0+GiQXtC9RLIyoqP0GWrPMJ5JT/2/OH6+nr4n8BxgCHDpDOhNjmrn1PVf7/qJ4JAI1YMSwBdlvCVQK+DQUVeQj4DcXyNiN0HLTLauuCkU+Li6iiy5uMMCOnP4pjK+BjOo9n3kL+4H+QDcVdeAKgHOz7uEHyn3RQOKeYSRtu2rMNf6ViY3eHHN9dbyQYx37F6hf+wtInom/D9sJTDQ2Hb/QmCYxxiuYu1Ohc2w7uL23VOTe0fCAkPI0TUE6gJoSuZLGExuPPKr3XF+xfQeEeocEAAAa8QZqnSeEPJlMFETwQ//6qVQG7AwgrQKqrMYeVbBdn4NYCETRGQ1gUOENp4QmUlisPsS7GGej0AMhUjPZz8rGzPu3Kkf5sYlA8NujW3QFStOLT1XVPRxpfqDCLv+ywuQajUmZK9++IaDRyPAtyhYUBs+wy9sjtcRsmVtHjhIHnPPwA+gMbu5PRejNqveVfrf/5L2FBKpUG0o70DuTnKvuMLnmMpWS6Rs+yEOxWSkrrh/NCePp9Tkq707C7VP8KwgQYlqgsAPvUv6nx2ZwiJ2142JwsN75ti5Dp4KZ8vYnw9fKU7Uiy6L0SYlcHQ4tiMzB4pLzAUpVhJnx8pAhPCFsDfFaQ4vimJ3BH+41i4g1j27jlV1cvL581HWhRJW8LiMHw2lEIgbuwegagSv5I4ofWdNjfBYXtdi+LuMDKQfYKmhAu9EnLO6W+sqf+bHYuX34kaMgriGwnTavUcBq6l1TSSYpGeMwAktZ8BYOUYLqwRrd4gYEYGZABl0QQDzTWJvCzR3Ge16ACzJf1TMlnemtlNispxlcVmzfMcWDkIZrSzCR75aTYGICxEo4Amp4CtvTLkbKgvpAPnwRcqFouV9VypG5a+XPDtnqayKD3lzA8j7g8+Z9r4ZMEaiwatxZdSBnCqgAsZaseXWDmFSJe5Yyl1QsMHN94/J5QZJ25CAWqA8P3YqtQlq56Q6sKZtia35Z5+VzPKn8V9rG+a91MaD0JXI6GhA+B+HSswZ1FM1tWQe2DmZtb0GhwCj8Huo1lzv8x6eRslsYyPcHSLVFeaDHKj0V8AKHe4v9hTBBRnwlk3sSEQ9gQ+rw59BCeDj4EVdQXmOTyddksDy2MihYyCD6Hl8nV5//TQc+pUs1k6ZrCyKl1QAtrhvRq9/o9ov0KTZ3ezOPIKhoo8Z880waYcWUsjn1HODyDBVQ7XuCmH1BBYRSXl7cGrtjtRYcAFVuwMaqc2+ENKM4TCb8DmZhycf/AU/hFWDNHMmp8edFT9vfRrSpMQcz1vPVuY/wvSrLMl4jlxKHJNm8ZjzcPifiCUOASReQUILugJRCtv7o7UUjXQdUAlngGhFDd8PDSTtQ6Zpdzq7Wl5CZylBVKOsgBfmhVVnmU5hcrSmqxxJ1AqlKTv7OTnm+r3FSCQw4cHP9nVDpNuuC2nXNAibIiDyME73RsxSbzXTzOyekDi9ha7PeCd0bH5AwNnX10e7Q/E+/2IN82g+H/rmMesPSAZUw+OSt6kP5xkLdF/74psdRd4YmP0PctzvFURhibPVV+hyyP/utE3OvzJl+0AVgl2MTrrGOvmo9XGcZL7SVHQ/ynCzlg3AW9CaILG/40jHfcsOE+cIAyAmrGg3SnfIvXS4vbPwcmPSdoPMGQ87DO0lARHrmFuGZDiknrA1EH9T4PMGMVYUOrOG1ycjcKbMnI7kLAKp4QV1dbpziXubyzTzVswPnm5ZAZ67bZT9hRS5wJe15iKzZOSPDR3ghwlSiAwsAw+5cEs+RKqfl9Ei8b/L9gP+QfAS8RSod38gJzuxbDROGnq6rk1QHPCOPFQ2vtiECIC3bnSLimGp30BnW5TIQ2c75/QOxU4OQHXuOCTgmJ66yhhf0wBQgpUrzYsgObWvd8ImANLO/r6JnO99aLrNLT0c0EYLOQ1sAcdBwJ6n3NtvxI7PKrgzVDgX8yBhIujZU/XprWYEpvkmHR8BH4xvhXodJxhGiuyvUPPeYH6C+cW4HDWfTV/zlJbwfyD/I/rBsz3IVi5rSY6/Qd/Si4gv6WSQZmiOQ6B1PeXFgceyudMfrUZZVVWwK49vTZtcwLfPiEhnEcjf843ktx3FTn2QrbRJzW4B+V6Ox61/C/1cBA3Cbv8byGNlsIxI2Du4yZX1/ij97Ex9flY4+GoDGNHBndXVJ76PC1fyYdPSbjxfvojLGHbLS1KUeqHh8Ss60ZpFa71/AWUVszMp84QeOL2U3hqZhbUmVWYDlpzbUspXjrO3evb81UKZyOP/GWXctFkIcQhR+7IKc6RMgFI7xsGMOYqnZ8Ux2RnHiz9BCRL2mqrsC8VfdJ7+/nzacSoLH5I13VvMOU3KY3IBR93DxvjhV3xWt4IcOyojqSNBxWXCVbm1vd2l/co+nHzCzhCHjFezKqZMrbW/0jgf1QYFWMG4iPOooKhk8U6gwG/WvmrMOrhXtdKJv0ILyoACSfhMrbx1K8cIgEDim6MzUC7Dyh9nPe8UsLW4x+6mGc7xCfCHh8+qntKsF+O2GiSpLQQrmXiCbZIBQ3AcXFKEPshg9u7dPLDFhGlfUWtfBfZmp1OAL7+yEAAAB1AZ7GakN/ATUZKRhsMEnErujLrMvv3NbeEIgUk01OZvKs3VIAE68fnzMxM5VV+F9qABxs+NU6NVLM96oM238F4fOeMoWfURSAG+02TN/i4Th7+2u1W2RggvL/AYpWcST6RCdM5I1zeUErLAODgUxznREidQ7hAAADSEGayEnhDyZTAgh//qpVAOT1yjEsqIofzIna8cGMBFPFeySKygohZEoK72mjaWDi6xVDdwKSAfSjBvxKzmND2C8JIfebX0s4BY+5pJqSk4Sx3xozeTayK7/bPR/vl7GcHlu1FReKh+d2pwe+0JvM/II/24Ib1R85GAY8F6R/PZnprRZwHRQgDJYOzBWoqyXnT/nIc6R9hyWCRa7EYmUMA2Eq5bin2fE/MNTxWbkJFIV09j28gvyidzED85zuBGidVOELNsBWBdfvwf8A1HOVFTdmMBLLXpxmZ3nqyj7fbVVE1ydhHSO5aHzl/3FToXI0MxL+HVgmUz3TXhNln3r0s5K0s/LH3IMG2X5upS45zzIMgocBxIKl4tRawuBvNNrqe4Y/fc0bdpI1zFaXq4WVJzvF8KN3M0ZxhIlBYAfJEJIAMjD1ICQdPhW80iOe1f5RY6GRp1EGJHDAeBLmYOMDn/O54r5CcV2LbIqci3aFQJIebDM37337LA2Np+QuYrR8zVzdKa/ULmmiPo1gls4sCJp39C8ZxuaHQt97Q630SW4cfjcSl+Cqbu6HkZ5ZZvzrtsUV9BOEVImlfIl8EFkxCBMJAGzy57d6eh/o26x3KV3rOOHzPniYgKKhI3dxBUgtWEqcbU6E3DKzTByjAPmT0xPOapw6Lylbsozfdl9/lrsFpZT+JreKbkqYhULkeugBLuJhHrv6n7LOmz4ggpxHZ2O7z9LXP1VW4c+NEnRr/CFBdonq8Jf1MIuQRyNpdX3DFEBBYg4VYvMBbSVT8UEz30DEMXcBGv0vN3MNVEfnBHdan6oApKnHfQAiEtdHIZugxwPH111bv9MY9Hs0gjj97eJQSWnalnaVv0LxWHgSiYgRUrTqb4dbCIsVrr98I1YKjW7Oz5RNDCEJR5y+7RLZcfAPbMXKOCHiyS6GgaUw1Ywqq2YffArYCT7sfMoLUMeqton38vhLv55fNenbk+yM1ijiWF3k3G+WSFDThS8SMh0/V6CZwzH6FtOlC3/pdQr0MuPeO7Lou7zTWKKpZNlCr21F8liAkLuj3I1/vRdHUXDvCV95s3SJd7RgBJ0X/1MnGnHlBhjvoPYJpS/JfykbfufrS3wt6YqLVgAABWlBmulJ4Q8mUwIIf/6qVQPwPXACw/LgBpZSLcGizjbOmawnOWRr9MnuOyuxxjBvA2GucsHXTnDe0cRTLcXBGocDWEuH/n3PxwKFy3XTuJpAkKTMdiodQDZ7VplbrxS1UAN4sXoVrtp1bFwCaXdK5wvic90N+HZ5GQJNkqBD11zZpC6A7J6OWAjJXp9Ywz3xtGGuvETz1hY1usCGaUOy/c33vwV6blkG9iPl71TfGN9FgrKcaQ2K+eRr8Nlm+0ns03YTYA/aGY50ocsX+m24WljGD5syLySSA99r4IFDyceQ2yav2Y2JOrsfbu1GqDYKkpfJsmrpp+CU6VzauJJPD50DuU068PLML+JpNodxlOG8EajAJyEg4VPv96Gz27bBt3eaFIXNC6XPauCemKDq5dFf/SEEwLVweD4VAYnM7vDS0eATdFPEgBe9a100VEIyGqFstfJtMark0clPqIx9niSgt8URuGZdbvwKD3ZhaPcJmnNzpWOO6dAV3CXM0/+YKoJEeU6V1/PCUsyDLZ89D3T+FMjhP/+dgS/9EgaYfb3oT3SCHuYBweZARgUhQhAamjVE4pSVaVnSXucAeG7At9H0aXYMRR0cXY9TajD4bJxd7vEGElcskHXT+Ad21mpOTecLFBvvkSfOkQuUDAdj68PaM8vq8TVaXsejeDo2yerzMq25Gf+FIUgvie4Owpv5o3ffS0H0NSxYvdWN/JwHEhbG8sDV/4+H09nq0NA9wJol8J7saOzJLLNO6slepKoQ2jZhhi+h5NLBidYYOhr1/jYnRGdGqNSwmZmlG/uyJ6PXfag8xJ/qlwQ8g4wmK/EoeKUK4FT9tVMQ79tJl7miCa54C1qHB0frPmbmmDx3jIOQ7/v/oKH6Hj8RJRNu7XUN0g4TDfs/J8ApB0hhJZ9xCH+NnIYtuNJvl44xsl/ARwcckmJaY9OibAE6QN/6JREwCaNH8el5NPT/MW/EUEmBbiINv+Nwhs7+Z9/5LP72VkrBUFOw8ZAYqZGLjCRW8pr1HHQmaHpfL93WGrXI3MXQhANZUJ2PzL91jtFHoxEzntDRWUmi2/U8YGdHU2uSWLcqAsyNm5vZokGKQY5XaWe3E1C9wMI5ZMx3VNh6NFXf9SF1oeeU3Sk/vumQ2/maBwpTv+ecsUUWbX1baENED/0yndhq1+WFU294MVcdqTkCSfhHaMjuCudlK+VnxDoSLzF9LYByDZTIoYBpf36X2yz8IgMN5gsjLmLvnwpdhoEj8e9tCAldfVzmQdYzFfd0T7uzkqkJN3fHcAFUFzb+FANLZqf4kMdhbFCLm+lFJJcUE+ujPVqUU9sUgPVGG17BKeY9Ac3qFV94UdMKP56ZJ4cQy/923wxeJZQm8lk9YIiEZ2gmSibBZ9iWPk8USlP6rgYnP3SDLiAOEp/OcjZpT+T5/HAnTa7h2k+EleDL8mmbsMvMD2yXePj8Ev96S9nzyHzjHjMz0+jL9fjlFhJtX4UtOeVZHYbmn5iFLm4tNYYkn7RnYvbyrrshiJ4XuF6OO+seglpkke2ZgY09HDbfBguvTO4tToXKhTqBEPedZe6PdsREpaHhUzWveixlHMV81TvZc6zdlxtbI3+dETlspYTQxUSx/sVOJjplIx9veCb8o82YrhiNxbKaD2UYDCqDphG1mbb+zNHa1SoSYzIKzQPzunT+bj7wSUWi/gxyU6DNZxOwd1wyrYdZe2cOY6qlrVgHzZLmz9UCDvUj3dZFteDTT1souwKDcPzwMMmmpYrfZVU6Pi3hF9/YovHjE+lBMMqRCTzR79CPdMQ4Duh/BX2eM6RFrWf4/Tvs5j2aBHvmW7R0uQL45BG5RqZoWAAAAblBmwpJ4Q8mUwII//61KoDbodQBQ7yTKbXRUMdCq2jR0I7EulhcdLZQewPBkT7VQctIdhrtLBPKQ8WWnIoLqRO6t5aOshZAWGZLLLHHrltKg/P+CQeX9baLKNTaWdzW76reb1ynGb4Lhz/aZRjTd7UADPsIvb5GA5gLAKsn0NmLK9K8i934x0Yo8LUTVpOoAHTvPlB2j/MUOD5YlDXNqw7nDXSEl2gMB35SovMheGLbSUmQKbd5rtDBpufsDLo/vhz82+GKcb6j3ygB1Uk08Jpdacapbr5wdLewTNctYG808xrw72CfqrNLmNnwpGQzcKn52OQXbrb+CcVJi080Ng5xBuFNeo3hEMVuwkf0WGNJNQMCoWjSeSDSd8tcpCjMF3TV3VZs9O4QOqmwvLzRRuvFuK/kV6KMlyVH0PSjASMTrfKEzSk3HzMFyd3mL4QFvvmive1UfnLnzYT2HE+fIDdAHnvc2VfNC040qCYj7SFfRbaKV21oeHvUYmkwQQLj6wJJs2jCO3NINFxhiQJ6C0C5bjb57sFQJ1oEc/qmzt3LgPDVaFamC/A2XMNs0qqzk2wyl91JlfsoJaEAAANkQZsrSeEPJlMCCX/+tSqB931hDA0veaMgkFz/fl0CWAtSqsSc0iUpNPVy7kSqFzjKMQpqmbhrVkVmpyvceA28JTENlPhGA65yag/0w70Nxzg6bWAwAJsazZNMnLtNEWAw//KHnVuYs/c1N2bumvNMJKD5MiiymWjaTpiM4m1/m3uRvwO3mM/5yuJFaRlIcB4g3ZFA7BcmkOYf3fXwh3LRkQ4FDKWdK62DWVLD3tbJ6Jnd69Ih274cpf/uSIH9v4SqEOmH99ucdgPD3caIziinNVDgaml/MJxHM4iZj9+db4Yn/ln6Kij4DdkmB0heuRI2ESM3N6g1EotFytVseiH7qe2ep3OLXGQQNYD22xFf8xwoHmqYpY3Kq4poZve537lb93kRSNlcs3Szdr09hCHrpNZ5ZdTfFKyTba15EUU07Du9GjLUWcM1f2T42oP1K6Dj5ADBE9wF0cZpF4CKh5ImEIGmU0NfKTG6eEE+71/5IoHSPyCIU0/SDE6qDbb+ZUuaMIhE58kEVkV1Wxc+Q5LEeijnawkBOvERxcv2HbqCdn9nuaZt5jFsHiSBVMHFs99xHffshe8wJeoCRY9V9BcNMECos7pPIM72O/4HZwMz3qZ/68stD8egihzPAsDqYepNm9InaokYMHkc+h1S2wd4QCAXmhiRdCj4DmseZKeYP6dHUXyaFWWWaGgX2F24LKJqshpPrkQIDL5lWSIm54dDIZYG9C2CuDEe9tQiHlbxy3fDpa3Rp0SJwnLsHkp57GePF+6pkPf1UTzN18NvLRtx6i+yZeR2ianQf1pKtmBO/opKk52UMEsLEziKlrQOXGZmdc7C91E7p2gTZ0n76AMH0UwMZ2AZyqf+jYxj1407fr6iwYj/g52aAcHhjUSOshxD66eQz/oHkGAoImi4yH55d0sLbCfmnz5azE9K940LAa6J0QwXU4OsiX+mlGDI5zZoyNgmWN/ZMHoxzY09SWJbjTjGJMYsC1Z+EGdshvxsA8GWlnn6c5mN5NlJRj6y0A651sBSkjk69KP5mh0bT5a+i8yolIkrx3C7IClshXN7GR3vcb0akT2JgNaJRUpDzjB8+kqF3msk4rhf0W/c7qUduPYLczBFZZEWoLzvgZJnyuZk+10MnkMAB7BlIc61hYIWI/US8AAABK5Bm09J4Q8mUwIJf/61KoAbTh+PAE9f9pjc/2UzIFPfR3qtViO8Ncc4/qDC8O/ayZIO7n/wKD0LuO+Xt5SjVvtOYzcrwsgcDAfwqzy4RiP29ssJvdB+rPoAny4cQtFMEBXaY8PvqpNDRcZ5Px5uVOXycb60UW35bG6Yj3f1YSnv/5TEo2nmblnuV9HbTlgXug88Ppz8ST3uygkTtifVj9XSHvc7lNElaPfY13lUNNxINnvva3NfXwiEmP/cyxYto64HJlrTxxH9ahMWPm0LMuvdDwvilGTfQtwttTXdUpmybPx6us0GTfhPGap32ATAsDlVtygPPNgYl1cBsSnLrrVz3Mu/PqS7ELoKOS/u3Lm4/naun9nATALPg8QBYmi/ZGkQ55SBBRLX1SUonJkaKaVpIhn5V7UmCAgZD/FSsBOHvKTOwFuzteVFU+0M5I1+zd8blYHp5EISu23P4qbcw9oNPqycBrjsBmozSs5RKswWibSNKuMQ9ArCXDlCwC2Psq7+ev2jbGG3Hjj2fVd84ny9OptQSk70AP1ViHFMIxs/leMAe24gxcGmUiVNp5R7WDZQYpKj7NXQMmmy6+EONGzvSj06I1vbVW/55ZLhIptpjLhuK78kF/wfph2iwhz3YonGJByJggPxiW81lnLC84aPW1d8XOLMdIdIF1SaccfX6OI0AfCwfc7T3mdwk8dhGXgytN5MwOtBNQoO61P7ydS65zvKlLFDnZgC9Ro+VVgPJ1FDz/gA0azEBAoQrDtXNS2bgUW28oz1Zkr9Wz5nhxa95Yv7oEa1auYTE5Mw4zOV+9ZfCrwpxQRgzTq3XEVEjWhexghxIIpHLXWiocT6kd5pLKB/s6iNqtgcY+3xlzxkmUJmEoD81PPDnhc4zE97E6E00IP8xeQsS+hqQmp6wBehQ0OZovjKILAlTdPQWtqsHLy3OUQA9FYV7kvZriBN9MaA72c75joyyoSozVssdwnX45lWcVd0P5RSs6wfy03u/vjShdFjhYM2hg8Cv0qle7UUbFGmQPas7tnKHWtZIWVfXh8ba5unTzZ0+f6TFXvp9UZpyEW4ttEyzNuYBG/pR8fDmrbkVzX6D+AN67WuZcjC1iJoRafk5LsfnBBaOMaMt8E+7hNK2eD5en/vfUM88RhMl/8ssUdmSQ//qCYxPNQHVaY/YPmTDOUagIG/edVioynzSw/2ra9mAmnWNg4lNxuTBUGwdKoNrEprvGvP5jYIGM1lq0BBtQY8/lXJtD1RW1w3V+YvScQLeIOl5gxxMZksqozFnZLsW8QPJqi1AEme6ICaMM/qxuBrZ5z+1YWctYnakj/RadvsgDvvAMPq1knxGrjl8G2sS1FVguw8l9T93Ooqkku5CFbXizY7NHaHMHM9Y9M3RXQcxe8pU3rDiVUyclVAw20Oc2hEbnAw4dLKgK9RHdVtPUkCHuV0mVTGWH2Q7pP7ZCV2nJjSG4DIJM/H3xws9HCjUJNoaTBhPR0McN1kRMNkj4RPCe+9aZJY2wJM/ym7NIfrgq3vtl4xvhfa9i4u/lwBGdDgoEddnrR+epPFPzVVU1jMT27dr1347vmC3lQ8KB+p3bSCNmlAAAAAPUGfbUURPDv/AAPnoDZd/qoHjzZ1Nt1KoibDy8rt6BYcCkUJEaB7jRuRJ7slePiAEJbgvjGu/7Ot8qthA8cAAAAyAZ+MdEN/AAWs7oztBHyS4BM7enpNxUo5eEQq7GAHRgJbqxLSKOzQ343V9EhnqlZusoEAAAAVAZ+OakN/AAADAAP33ABMCeFH41iBAAAALEGbk0moQWiZTAgl//61KoAbTh+PAE9f9pjc/I0yds0e3ngCoYi3XuJLpITkAAAAFkGfsUURLDv/AAADADPkgB8gNWCGsrAAAAARAZ/QdEN/AAADAAIa+3ed01EAAAANAZ/SakN/AAADAABgQAAAACFBm9dJqEFsmUwIJf/+tSqAG04fjwBPX/aY3P9lMQAAH3AAAAASQZ/1RRUsO/8AAAMAM+SAHPTBAAAADQGeFHRDfwAAAwAAYEAAAAANAZ4WakN/AAADAABgQQAAACFBmhtJqEFsmUwIJf/+tSqAG04fjwBPX/aY3PyNMQAAH3EAAAASQZ45RRUsO/8AAAMAM+SAHPTAAAAADQGeWHRDfwAAAwAAYEEAAAANAZ5aakN/AAADAABgQAAAACFBml9JqEFsmUwIJf/+tSqAG04fjwBPX/aY3P9lMQAAH3EAAAASQZ59RRUsO/8AAAMAM+SAHPTBAAAADQGenHRDfwAAAwAAYEAAAAANAZ6eakN/AAADAABgQAAAACFBmoNJqEFsmUwIJf/+tSqAG04fjwBPX/aY3PyNMQAAH3EAAAASQZ6hRRUsO/8AAAMAM+SAHPTAAAAADQGewHRDfwAAAwAAYEEAAAANAZ7CakN/AAADAABgQAAAACFBmsdJqEFsmUwIJf/+tSqAG04fjwBPX/aY3P9lMQAAH3EAAAASQZ7lRRUsO/8AAAMAM+SAHPTBAAAADQGfBHRDfwAAAwAAYEEAAAANAZ8GakN/AAADAABgQQAAACFBmwtJqEFsmUwIJf/+tSqAG04fjwBPX/aY3PyNMQAAH3AAAAASQZ8pRRUsO/8AAAMAM+SAHPTAAAAADQGfSHRDfwAAAwAAYEEAAAANAZ9KakN/AAADAABgQAAAACFBm09JqEFsmUwIJf/+tSqAG04fjwBPX/aY3P9lMQAAH3AAAAASQZ9tRRUsO/8AAAMAM+SAHPTBAAAADQGfjHRDfwAAAwAAYEEAAAANAZ+OakN/AAADAABgQQAAACFBm5NJqEFsmUwIJf/+tSqAG04fjwBPX/aY3PyNMQAAH3AAAAASQZ+xRRUsO/8AAAMAM+SAHPTAAAAADQGf0HRDfwAAAwAAYEEAAAANAZ/SakN/AAADAABgQAAAACFBm9dJqEFsmUwIJf/+tSqAG04fjwBPX/aY3P9lMQAAH3AAAAASQZ/1RRUsO/8AAAMAM+SAHPTBAAAADQGeFHRDfwAAAwAAYEAAAAANAZ4WakN/AAADAABgQQAAACFBmhtJqEFsmUwIJf/+tSqAG04fjwBPX/aY3PyNMQAAH3EAAAASQZ45RRUsO/8AAAMAM+SAHPTAAAAADQGeWHRDfwAAAwAAYEEAAAANAZ5aakN/AAADAABgQAAAACFBml9JqEFsmUwIJf/+tSqAG04fjwBPX/aY3P9lMQAAH3EAAAASQZ59RRUsO/8AAAMAM+SAHPTBAAAADQGenHRDfwAAAwAAYEAAAAANAZ6eakN/AAADAABgQAAAACxBmoNJqEFsmUwIJf/+tSqAIoyZiIgeHKTYsA1p+qRJEhKKgT8RbY0vp4AEfQAAABJBnqFFFSw7/wAAAwAz5IAc9MAAAAANAZ7AdEN/AAADAABgQQAAAA0BnsJqQ38AAAMAAGBAAAAAJUGax0moQWyZTAgl//61KoAbTh+PAE9f9pjc/2Uyds0e3ngAdMEAAAASQZ7lRRUsO/8AAAMAM+SAHPTBAAAADQGfBHRDfwAAAwAAYEEAAAANAZ8GakN/AAADAABgQQAAACpBmwtJqEFsmUwIJf/+tSqAAMprpQCX3xvPegj3rS+/P5tqipO3HWC3SOAAAAASQZ8pRRUsO/8AAAMAM+SAHPTAAAAADQGfSHRDfwAAAwAAYEEAAAANAZ9KakN/AAADAABgQAAAADJBm09JqEFsmUwII//+tSqAIoxxAIZv/Fq6J52DbG/yPoLLFRur3jttAlkTBfajFiAnYAAAABJBn21FFSw7/wAAAwAz5IAc9MEAAAANAZ+MdEN/AAADAABgQQAAAA0Bn45qQ38AAAMAAGBBAAAAMkGbk0moQWyZTAgj//61KoAijHEAhh2sWronQCNsVoI+e1EVG6w1C22w+RMMdKMW0MdgAAAAEkGfsUUVLDv/AAADADPkgBz0wAAAAA0Bn9B0Q38AAAMAAGBBAAAADQGf0mpDfwAAAwAAYEAAAAA0QZvXSahBbJlMCCP//rUqgCKMcQBHW/4tXRPN3QxopvYoq4cus98dzQmtcBVvGd0qh6wTsAAAABJBn/VFFSw7/wAAAwAz5IAc9MEAAAANAZ4UdEN/AAADAABgQAAAAA0BnhZqQ38AAAMAAGBBAAAAHEGaG0moQWyZTAgj//61KoAAbzVchhS6hnAAbMEAAAASQZ45RRUsO/8AAAMAM+SAHPTAAAAADQGeWHRDfwAAAwAAYEEAAAANAZ5aakN/AAADAABgQAAAABtBml9JqEFsmUwIIf/+qlUAABZO+qAHSYxQAtsAAAASQZ59RRUsO/8AAAMAM+SAHPTBAAAADQGenHRDfwAAAwAAYEAAAAANAZ6eakN/AAADAABgQAAAABZBmoNJqEFsmUwIf//+qZYAAAMAAIWBAAAAEkGeoUUVLDv/AAADADPkgBz0wAAAAA0BnsB0Q38AAAMAAGBBAAAADQGewmpDfwAAAwAAYEAAAAAWQZrFSahBbJlMFEw3//6nhAAAAwABBwAAAA8BnuRqQ38AAAMASXIyWxcAAAfKbW9vdgAAAGxtdmhkAAAAAAAAAAAAAAAAAAAD6AAAY5wAAQAAAQAAAAAAAAAAAAAAAAEAAAAAAAAAAAAAAAAAAAABAAAAAAAAAAAAAAAAAABAAAAAAAAAAAAAAAAAAAAAAAAAAAAAAAAAAAAAAAAAAgAABvV0cmFrAAAAXHRraGQAAAADAAAAAAAAAAAAAAABAAAAAAAAY5wAAAAAAAAAAAAAAAAAAAAAAAEAAAAAAAAAAAAAAAAAAAABAAAAAAAAAAAAAAAAAABAAAAAAZAAAAHMAAAAAAAkZWR0cwAAABxlbHN0AAAAAAAAAAEAAGOcAAAgAAABAAAAAAZtbWRpYQAAACBtZGhkAAAAAAAAAAAAAAAAAABAAAAGYABVxAAAAAAALWhkbHIAAAAAAAAAAHZpZGUAAAAAAAAAAAAAAABWaWRlb0hhbmRsZXIAAAAGGG1pbmYAAAAUdm1oZAAAAAEAAAAAAAAAAAAAACRkaW5mAAAAHGRyZWYAAAAAAAAAAQAAAAx1cmwgAAAAAQAABdhzdGJsAAAAsHN0c2QAAAAAAAAAAQAAAKBhdmMxAAAAAAAAAAEAAAAAAAAAAAAAAAAAAAAAAZABzABIAAAASAAAAAAAAAABFExhdmM2MS4zLjEwMCBsaWJ4MjY0AAAAAAAAAAAAAAAAGP//AAAANmF2Y0MBZAAV/+EAGWdkABWs2UGQ7+4QAAADABAAAAMAgPFi2WABAAZo6+PLIsD9+PgAAAAAFGJ0cnQAAAAAAAASTAAAEkwAAAAYc3R0cwAAAAAAAAABAAAAZgAAEAAAAAAUc3RzcwAAAAAAAAABAAAAAQAAAxhjdHRzAAAAAAAAAGEAAAACAAAgAAAAAAEAADAAAAAAAQAAEAAAAAACAAAgAAAAAAEAADAAAAAAAQAAEAAAAAAEAAAgAAAAAAEAAFAAAAAAAQAAIAAAAAABAAAAAAAAAAEAABAAAAAAAQAAUAAAAAABAAAgAAAAAAEAAAAAAAAAAQAAEAAAAAABAABQAAAAAAEAACAAAAAAAQAAAAAAAAABAAAQAAAAAAEAAFAAAAAAAQAAIAAAAAABAAAAAAAAAAEAABAAAAAAAQAAUAAAAAABAAAgAAAAAAEAAAAAAAAAAQAAEAAAAAABAABQAAAAAAEAACAAAAAAAQAAAAAAAAABAAAQAAAAAAEAAFAAAAAAAQAAIAAAAAABAAAAAAAAAAEAABAAAAAAAQAAUAAAAAABAAAgAAAAAAEAAAAAAAAAAQAAEAAAAAABAABQAAAAAAEAACAAAAAAAQAAAAAAAAABAAAQAAAAAAEAAFAAAAAAAQAAIAAAAAABAAAAAAAAAAEAABAAAAAAAQAAUAAAAAABAAAgAAAAAAEAAAAAAAAAAQAAEAAAAAABAABQAAAAAAEAACAAAAAAAQAAAAAAAAABAAAQAAAAAAEAAFAAAAAAAQAAIAAAAAABAAAAAAAAAAEAABAAAAAAAQAAUAAAAAABAAAgAAAAAAEAAAAAAAAAAQAAEAAAAAABAABQAAAAAAEAACAAAAAAAQAAAAAAAAABAAAQAAAAAAEAAFAAAAAAAQAAIAAAAAABAAAAAAAAAAEAABAAAAAAAQAAUAAAAAABAAAgAAAAAAEAAAAAAAAAAQAAEAAAAAABAABQAAAAAAEAACAAAAAAAQAAAAAAAAABAAAQAAAAAAEAAFAAAAAAAQAAIAAAAAABAAAAAAAAAAEAABAAAAAAAQAAUAAAAAABAAAgAAAAAAEAAAAAAAAAAQAAEAAAAAABAABQAAAAAAEAACAAAAAAAQAAAAAAAAABAAAQAAAAAAEAAFAAAAAAAQAAIAAAAAABAAAAAAAAAAEAABAAAAAAAQAAMAAAAAABAAAQAAAAABxzdHNjAAAAAAAAAAEAAAABAAAAZgAAAAEAAAGsc3RzegAAAAAAAAAAAAAAZgAADqoAAAHsAAADdAAAAIMAAAChAAACtgAABsAAAAB5AAADTAAABW0AAAG9AAADaAAABLIAAABBAAAANgAAABkAAAAwAAAAGgAAABUAAAARAAAAJQAAABYAAAARAAAAEQAAACUAAAAWAAAAEQAAABEAAAAlAAAAFgAAABEAAAARAAAAJQAAABYAAAARAAAAEQAAACUAAAAWAAAAEQAAABEAAAAlAAAAFgAAABEAAAARAAAAJQAAABYAAAARAAAAEQAAACUAAAAWAAAAEQAAABEAAAAlAAAAFgAAABEAAAARAAAAJQAAABYAAAARAAAAEQAAACUAAAAWAAAAEQAAABEAAAAwAAAAFgAAABEAAAARAAAAKQAAABYAAAARAAAAEQAAAC4AAAAWAAAAEQAAABEAAAA2AAAAFgAAABEAAAARAAAANgAAABYAAAARAAAAEQAAADgAAAAWAAAAEQAAABEAAAAgAAAAFgAAABEAAAARAAAAHwAAABYAAAARAAAAEQAAABoAAAAWAAAAEQAAABEAAAAaAAAAEwAAABRzdGNvAAAAAAAAAAEAAAAwAAAAYXVkdGEAAABZbWV0YQAAAAAAAAAhaGRscgAAAAAAAAAAbWRpcmFwcGwAAAAAAAAAAAAAAAAsaWxzdAAAACSpdG9vAAAAHGRhdGEAAAABAAAAAExhdmY2MS4xLjEwMA==\" type=\"video/mp4\">\n",
              " Your browser does not support the video tag.\n",
              " </video>"
            ]
          },
          "metadata": {}
        },
        {
          "output_type": "stream",
          "name": "stdout",
          "text": [
            "\n",
            "Playing: ./videos/episode_4/rl-video-episode-0.mp4\n"
          ]
        },
        {
          "output_type": "display_data",
          "data": {
            "text/plain": [
              "<IPython.core.display.Video object>"
            ],
            "text/html": [
              "<video controls  >\n",
              " <source src=\"data:video/mp4;base64,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\" type=\"video/mp4\">\n",
              " Your browser does not support the video tag.\n",
              " </video>"
            ]
          },
          "metadata": {}
        },
        {
          "output_type": "stream",
          "name": "stdout",
          "text": [
            "\n",
            "Playing: ./videos/episode_5/rl-video-episode-0.mp4\n"
          ]
        },
        {
          "output_type": "display_data",
          "data": {
            "text/plain": [
              "<IPython.core.display.Video object>"
            ],
            "text/html": [
              "<video controls  >\n",
              " <source src=\"data:video/mp4;base64,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\" type=\"video/mp4\">\n",
              " Your browser does not support the video tag.\n",
              " </video>"
            ]
          },
          "metadata": {}
        }
      ],
      "source": [
        "import os\n",
        "from IPython.display import Video, display\n",
        "import glob\n",
        "\n",
        "# Find all MP4 videos inside the videos directory (including subfolders)\n",
        "video_files = sorted(\n",
        "    glob.glob(os.path.join(video_dir, \"**\", \"*.mp4\"), recursive=True),\n",
        "    key=os.path.getmtime\n",
        ")\n",
        "\n",
        "# Display all recorded videos (or just latest N if you prefer)\n",
        "if video_files:\n",
        "    print(f\"🎬 Found {len(video_files)} recorded episode(s).\")\n",
        "    for vid_path in video_files:\n",
        "        print(f\"\\nPlaying: {vid_path}\")\n",
        "        display(Video(vid_path, embed=True))\n",
        "else:\n",
        "    print(f\"No videos found in '{video_dir}'.\")"
      ]
    }
  ],
  "metadata": {
    "accelerator": "GPU",
    "colab": {
      "gpuType": "T4",
      "provenance": [],
      "authorship_tag": "ABX9TyMu55xzxUbQGVHPPyCXC/K+",
      "include_colab_link": true
    },
    "kernelspec": {
      "display_name": "Python 3",
      "name": "python3"
    },
    "language_info": {
      "name": "python"
    }
  },
  "nbformat": 4,
  "nbformat_minor": 0
}